{
 "cells": [
  {
   "cell_type": "markdown",
   "metadata": {},
   "source": [
    "## Finetuning"
   ]
  },
  {
   "cell_type": "markdown",
   "metadata": {},
   "source": [
    "## Definition of the model "
   ]
  },
  {
   "cell_type": "markdown",
   "metadata": {},
   "source": [
    "There seems to be a competition how to define a network with the least possible amount of code. The slim library includes a **arg_scope** which allows define defaults for aguments."
   ]
  },
  {
   "cell_type": "code",
   "execution_count": 47,
   "metadata": {
    "collapsed": false
   },
   "outputs": [],
   "source": [
    "tf.reset_default_graph()\n",
    "with tf.variable_scope('vgg_16', [inputs]) as sc:\n",
    "    with slim.arg_scope([slim.conv2d, slim.fully_connected],\n",
    "                          activation_fn=tf.nn.relu,\n",
    "                          weights_initializer=tf.truncated_normal_initializer(0.0, 0.01),\n",
    "                          weights_regularizer=slim.l2_regularizer(0.0005)):\n",
    "        images = tf.placeholder(tf.float32, [None, None, None, 3], name='images')\n",
    "        inputs = tf.image.resize_images(images, (224,224))\n",
    "        net = slim.repeat(inputs, 2, slim.conv2d, 64, [3, 3], scope='conv1')\n",
    "        net = slim.max_pool2d(net, [2, 2], scope='pool1')\n",
    "        net = slim.repeat(net, 2, slim.conv2d, 128, [3, 3], scope='conv2')\n",
    "        net = slim.max_pool2d(net, [2, 2], scope='pool2')\n",
    "        net = slim.repeat(net, 3, slim.conv2d, 256, [3, 3], scope='conv3')\n",
    "        net = slim.max_pool2d(net, [2, 2], scope='pool3')\n",
    "        net = slim.repeat(net, 3, slim.conv2d, 512, [3, 3], scope='conv4')\n",
    "        net = slim.max_pool2d(net, [2, 2], scope='pool4')\n",
    "        net = slim.repeat(net, 3, slim.conv2d, 512, [3, 3], scope='conv5')\n",
    "        net = slim.max_pool2d(net, [2, 2], scope='pool5')\n",
    "        net = slim.conv2d(net, 4096, [7, 7], padding='VALID', scope='fc6')\n",
    "        net = slim.conv2d(net, 4096, [1, 1], scope='fc7')\n",
    "        net = slim.conv2d(net, 1000, [1, 1],\n",
    "                            activation_fn=None,\n",
    "                            normalizer_fn=None,\n",
    "                            scope='fc8')\n",
    "\n",
    "tf.train.SummaryWriter('/tmp/dumm/fine_tuning', tf.get_default_graph()).close()"
   ]
  },
  {
   "cell_type": "code",
   "execution_count": 51,
   "metadata": {
    "collapsed": false
   },
   "outputs": [],
   "source": [
    "# ops = tf.get_default_graph().get_operations()\n",
    "# for i in ops:\n",
    "#    print i.name"
   ]
  },
  {
   "cell_type": "code",
   "execution_count": 52,
   "metadata": {
    "collapsed": true
   },
   "outputs": [],
   "source": [
    "# Note we call the network studid, so that we don't get a hold for the tensors we need.\n",
    "variables_to_restore = slim.get_variables_to_restore()"
   ]
  },
  {
   "cell_type": "code",
   "execution_count": 53,
   "metadata": {
    "collapsed": false
   },
   "outputs": [
    {
     "data": {
      "text/plain": [
       "[u'vgg_16/conv1/conv1_1/weights:0',\n",
       " u'vgg_16/conv1/conv1_1/biases:0',\n",
       " u'vgg_16/conv1/conv1_2/weights:0',\n",
       " u'vgg_16/conv1/conv1_2/biases:0',\n",
       " u'vgg_16/conv2/conv2_1/weights:0',\n",
       " u'vgg_16/conv2/conv2_1/biases:0',\n",
       " u'vgg_16/conv2/conv2_2/weights:0',\n",
       " u'vgg_16/conv2/conv2_2/biases:0',\n",
       " u'vgg_16/conv3/conv3_1/weights:0',\n",
       " u'vgg_16/conv3/conv3_1/biases:0',\n",
       " u'vgg_16/conv3/conv3_2/weights:0',\n",
       " u'vgg_16/conv3/conv3_2/biases:0',\n",
       " u'vgg_16/conv3/conv3_3/weights:0',\n",
       " u'vgg_16/conv3/conv3_3/biases:0',\n",
       " u'vgg_16/conv4/conv4_1/weights:0',\n",
       " u'vgg_16/conv4/conv4_1/biases:0',\n",
       " u'vgg_16/conv4/conv4_2/weights:0',\n",
       " u'vgg_16/conv4/conv4_2/biases:0',\n",
       " u'vgg_16/conv4/conv4_3/weights:0',\n",
       " u'vgg_16/conv4/conv4_3/biases:0',\n",
       " u'vgg_16/conv5/conv5_1/weights:0',\n",
       " u'vgg_16/conv5/conv5_1/biases:0',\n",
       " u'vgg_16/conv5/conv5_2/weights:0',\n",
       " u'vgg_16/conv5/conv5_2/biases:0',\n",
       " u'vgg_16/conv5/conv5_3/weights:0',\n",
       " u'vgg_16/conv5/conv5_3/biases:0',\n",
       " u'vgg_16/fc6/weights:0',\n",
       " u'vgg_16/fc6/biases:0',\n",
       " u'vgg_16/fc7/weights:0',\n",
       " u'vgg_16/fc7/biases:0',\n",
       " u'vgg_16/fc8/weights:0',\n",
       " u'vgg_16/fc8/biases:0']"
      ]
     },
     "execution_count": 53,
     "metadata": {},
     "output_type": "execute_result"
    }
   ],
   "source": [
    "[variables_to_restore[i].name for i in range(len(variables_to_restore))]"
   ]
  },
  {
   "cell_type": "code",
   "execution_count": 54,
   "metadata": {
    "collapsed": false
   },
   "outputs": [],
   "source": [
    "# \n",
    "init_assign_op, init_feed_dict = \\\n",
    "    slim.assign_from_checkpoint('/Users/oli/Dropbox/server_sync/tf_slim_models/vgg_16.ckpt', variables_to_restore)\n",
    "sess = tf.Session()\n",
    "sess.run(init_assign_op, init_feed_dict)"
   ]
  },
  {
   "cell_type": "markdown",
   "metadata": {},
   "source": [
    "### Task\n",
    "Let's determine the race of that dog:"
   ]
  },
  {
   "cell_type": "code",
   "execution_count": 56,
   "metadata": {
    "collapsed": false
   },
   "outputs": [
    {
     "data": {
      "text/plain": [
       "(TensorShape([Dimension(None), Dimension(None), Dimension(None), Dimension(3)]),\n",
       " TensorShape([Dimension(None), Dimension(1), Dimension(1), Dimension(1000)]))"
      ]
     },
     "execution_count": 56,
     "metadata": {},
     "output_type": "execute_result"
    }
   ],
   "source": [
    "fetch = tf.Graph.get_tensor_by_name(tf.get_default_graph(), 'vgg_16/fc8/BiasAdd:0')\n",
    "feed.get_shape(), fetch.get_shape()"
   ]
  },
  {
   "cell_type": "code",
   "execution_count": 57,
   "metadata": {
    "collapsed": false
   },
   "outputs": [
    {
     "data": {
      "text/plain": [
       "(1, 390, 460, 3)"
      ]
     },
     "execution_count": 57,
     "metadata": {},
     "output_type": "execute_result"
    }
   ],
   "source": [
    "img1 = imread('poodle.jpg')\n",
    "feed_vals = [img1]\n",
    "np.shape(feed_vals)"
   ]
  },
  {
   "cell_type": "code",
   "execution_count": 59,
   "metadata": {
    "collapsed": false
   },
   "outputs": [],
   "source": [
    "res = sess.run(fetch, feed_dict={images:feed_vals})"
   ]
  },
  {
   "cell_type": "code",
   "execution_count": 60,
   "metadata": {
    "collapsed": false
   },
   "outputs": [
    {
     "data": {
      "text/plain": [
       "(1, 1, 1, 1000)"
      ]
     },
     "execution_count": 60,
     "metadata": {},
     "output_type": "execute_result"
    }
   ],
   "source": [
    "res.shape"
   ]
  },
  {
   "cell_type": "code",
   "execution_count": 61,
   "metadata": {
    "collapsed": false
   },
   "outputs": [
    {
     "name": "stdout",
     "output_type": "stream",
     "text": [
      "267 standard poodle 0.991464\n",
      "265 toy poodle 0.0036847\n",
      "266 miniature poodle 0.00303289\n",
      "160 Afghan hound, Afghan 0.000330886\n",
      "221 Irish water spaniel 0.000312829\n",
      "355 llama 0.000262452\n",
      "244 Tibetan mastiff 0.000241841\n",
      "368 gibbon, Hylobates lar 0.000104725\n",
      "903 wig 9.71746e-05\n",
      "260 chow, chow chow 4.49079e-05\n"
     ]
    }
   ],
   "source": [
    "d = res[0,0,0,]\n",
    "prob = np.exp(d)/np.sum(np.exp(d))\n",
    "preds = (np.argsort(prob)[::-1])[0:10]\n",
    "for p in preds:\n",
    "    print p, class_names[p], prob[p]"
   ]
  },
  {
   "cell_type": "markdown",
   "metadata": {},
   "source": [
    "## Getting variables\n",
    "\n",
    "Sometimes it is also interesting to investigate the variables in the model."
   ]
  },
  {
   "cell_type": "code",
   "execution_count": 9,
   "metadata": {
    "collapsed": false
   },
   "outputs": [],
   "source": [
    "with tf.variable_scope(\"vgg_16/conv1/conv1_1\", reuse=True):\n",
    "    var = tf.get_variable(\"weights\")\n",
    "    conv1_1 = sess.run(var)"
   ]
  },
  {
   "cell_type": "code",
   "execution_count": 10,
   "metadata": {
    "collapsed": false
   },
   "outputs": [
    {
     "data": {
      "text/plain": [
       "<matplotlib.image.AxesImage at 0x12b60d590>"
      ]
     },
     "execution_count": 10,
     "metadata": {},
     "output_type": "execute_result"
    },
    {
     "data": {
      "image/png": "[encoded data removed]",
      "text/plain": [
       "<matplotlib.figure.Figure at 0x12b594950>"
      ]
     },
     "metadata": {},
     "output_type": "display_data"
    }
   ],
   "source": [
    "plt.imshow(conv1_1[0,:,:,0], interpolation='none', cmap=plt.get_cmap('gray'))"
   ]
  },
  {
   "cell_type": "code",
   "execution_count": 11,
   "metadata": {
    "collapsed": true
   },
   "outputs": [],
   "source": [
    "sess.close()"
   ]
  }
 ],
 "metadata": {
  "kernelspec": {
   "display_name": "Python 2",
   "language": "python",
   "name": "python2"
  },
  "language_info": {
   "codemirror_mode": {
    "name": "ipython",
    "version": 2
   },
   "file_extension": ".py",
   "mimetype": "text/x-python",
   "name": "python",
   "nbconvert_exporter": "python",
   "pygments_lexer": "ipython2",
   "version": "2.7.10"
  }
 },
 "nbformat": 4,
 "nbformat_minor": 1
}
