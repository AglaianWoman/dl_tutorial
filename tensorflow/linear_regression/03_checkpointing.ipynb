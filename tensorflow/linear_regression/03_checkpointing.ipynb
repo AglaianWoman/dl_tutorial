{
 "cells": [
  {
   "cell_type": "code",
   "execution_count": 1,
   "metadata": {
    "collapsed": false
   },
   "outputs": [],
   "source": [
    "import tensorflow as tf\n",
    "import numpy as np\n",
    "import matplotlib.pyplot as plt\n",
    "%matplotlib inline\n",
    "N = 30\n",
    "x_val = (np.linspace(0,10,N)).astype('float32')\n",
    "y_val = (2.42 * x_val + 0.42 + np.random.normal(0,1,N)).astype('float32')"
   ]
  },
  {
   "cell_type": "markdown",
   "metadata": {},
   "source": [
    "## Checkpointing a model\n",
    "\n",
    "Doing checkpointing we write out the weights of the graph for later reuse. This is done using \n",
    "\n",
    "```\n",
    " tf.train.Saver.save(sess, save_path, global_step=None, latest_filename=None, meta_graph_suffix='meta', write_meta_graph=True, write_state=True)   \n",
    "```\n",
    "See also [API Docu](https://www.tensorflow.org/versions/r0.12/api_docs/python/state_ops.html#Saver)\n",
    "\n",
    "Note that the option `write_meta_graph=True` which means that also create a meta-file containing the definition of the graph itself."
   ]
  },
  {
   "cell_type": "code",
   "execution_count": 2,
   "metadata": {
    "collapsed": false
   },
   "outputs": [],
   "source": [
    "tf.reset_default_graph()\n",
    "a = tf.Variable(1.0, name = 'a') #Note that 1.0 is needed\n",
    "b = tf.Variable(0.01, name = 'b')\n",
    "x = tf.placeholder('float32', [N], name='x_data')\n",
    "y = tf.placeholder('float32', [N], name='y_data')\n",
    "\n",
    "\n",
    "resi = a*x + b - y\n",
    "loss = tf.reduce_sum(tf.square(resi), name='loss') \n",
    "init_op = tf.initialize_all_variables() #Initialization op \n",
    "train_op = tf.train.GradientDescentOptimizer(0.0001).minimize(loss)"
   ]
  },
  {
   "cell_type": "code",
   "execution_count": 3,
   "metadata": {
    "collapsed": false,
    "scrolled": true
   },
   "outputs": [
    {
     "name": "stdout",
     "output_type": "stream",
     "text": [
      "[240.63623, 1.9845371, 0.16349147]\n",
      "Model saved in file: checkpoints/model.ckpt\n",
      "total 40\r\n",
      "-rw-r--r--  1 oli  staff     77 Dec  1 17:30 checkpoint\r\n",
      "-rw-r--r--  1 oli  staff    169 Dec  1 17:30 model.ckpt\r\n",
      "-rw-r--r--  1 oli  staff  11582 Dec  1 17:30 model.ckpt.meta\r\n"
     ]
    }
   ],
   "source": [
    "epochs = 1000\n",
    "saver = tf.train.Saver()\n",
    "with tf.Session() as sess:\n",
    "    sess.run(init_op)\n",
    "    for e in range(5): \n",
    "        sess.run(train_op, feed_dict={x:x_val, y:y_val})\n",
    "    res = sess.run([loss, a, b], feed_dict={x:x_val, y:y_val})\n",
    "    print(res)\n",
    "    save_path = saver.save(sess, \"checkpoints/model.ckpt\") #Weights and meta file\n",
    "    print(\"Model saved in file: %s\" % save_path)\n",
    "!ls -l checkpoints"
   ]
  },
  {
   "cell_type": "markdown",
   "metadata": {},
   "source": [
    "## Restoring from a checkpointed a model \n",
    "\n",
    "In case we still have the graph definition, we don't need the meta-file and can restore the weights of the graph as follows:"
   ]
  },
  {
   "cell_type": "code",
   "execution_count": 4,
   "metadata": {
    "collapsed": false
   },
   "outputs": [
    {
     "name": "stdout",
     "output_type": "stream",
     "text": [
      "[240.63623, 1.9845371, 0.16349147]\n"
     ]
    }
   ],
   "source": [
    "saver = tf.train.Saver()\n",
    "with tf.Session() as sess:\n",
    "    saver.restore(sess, \"checkpoints/model.ckpt\") #Loading the weights\n",
    "    res = sess.run([loss, a, b], feed_dict={x:x_val, y:y_val})\n",
    "    print(res)"
   ]
  },
  {
   "cell_type": "markdown",
   "metadata": {},
   "source": [
    "## Restoring a checkpointed a model and graph definition\n",
    "\n",
    "In case we don't have the graph (here we delete the graph in the first line) we can use the meta-file to reconstruct it.  "
   ]
  },
  {
   "cell_type": "code",
   "execution_count": 5,
   "metadata": {
    "collapsed": false
   },
   "outputs": [
    {
     "name": "stdout",
     "output_type": "stream",
     "text": [
      "[240.63623]\n"
     ]
    }
   ],
   "source": [
    "tf.reset_default_graph() #Start from scratch\n",
    "saver = tf.train.import_meta_graph('checkpoints/model.ckpt.meta') #Reconstruct the graph\n",
    "graph = tf.get_default_graph()\n",
    "\n",
    "# To get the correct names, one can use\n",
    "#ops = tf.get_default_graph().get_operations()\n",
    "#for i in ops:\n",
    "#    print(i.name)\n",
    "x = graph.get_tensor_by_name('x_data:0')\n",
    "y = graph.get_tensor_by_name('y_data:0')\n",
    "loss = graph.get_tensor_by_name('loss:0')\n",
    "with tf.Session() as sess:\n",
    "    saver.restore(sess, \"checkpoints/model.ckpt\")\n",
    "    res = sess.run([loss], feed_dict={x:x_val, y:y_val})\n",
    "    print(res)"
   ]
  },
  {
   "cell_type": "markdown",
   "metadata": {
    "collapsed": true
   },
   "source": [
    "Another way is to create a graph and freeze it. "
   ]
  },
  {
   "cell_type": "code",
   "execution_count": null,
   "metadata": {
    "collapsed": true
   },
   "outputs": [],
   "source": []
  }
 ],
 "metadata": {
  "kernelspec": {
   "display_name": "Python 2",
   "language": "python",
   "name": "python2"
  },
  "language_info": {
   "codemirror_mode": {
    "name": "ipython",
    "version": 2
   },
   "file_extension": ".py",
   "mimetype": "text/x-python",
   "name": "python",
   "nbconvert_exporter": "python",
   "pygments_lexer": "ipython2",
   "version": "2.7.10"
  }
 },
 "nbformat": 4,
 "nbformat_minor": 0
}
