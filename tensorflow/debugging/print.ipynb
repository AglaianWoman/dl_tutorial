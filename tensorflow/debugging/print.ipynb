{
 "cells": [
  {
   "cell_type": "markdown",
   "metadata": {},
   "source": [
    "### Note \n",
    "There seems to be an issue with jupyter not printing stdout. "
   ]
  },
  {
   "cell_type": "code",
   "execution_count": 1,
   "metadata": {
    "collapsed": true
   },
   "outputs": [],
   "source": [
    "import tensorflow as tf\n",
    "import tensorflow.contrib.slim as slim\n",
    "import tensorflow.contrib.slim.nets as nets\n",
    "from scipy.misc import imread, imresize\n",
    "import matplotlib.pyplot as plt\n",
    "%matplotlib inline\n",
    "import numpy as np"
   ]
  },
  {
   "cell_type": "code",
   "execution_count": 2,
   "metadata": {
    "collapsed": false
   },
   "outputs": [
    {
     "name": "stdout",
     "output_type": "stream",
     "text": [
      "Loss : 121.0\n"
     ]
    }
   ],
   "source": [
    "tf.reset_default_graph()\n",
    "x = tf.placeholder(tf.float32, name='X_')\n",
    "y = tf.placeholder(tf.float32, name='Y_')\n",
    "b = tf.Variable(1.0)\n",
    "y_pred = 2 * x + b     # x -> 2*x + b\n",
    "loss = (y - y_pred)**2\n",
    "\n",
    "loss = tf.Print(loss, [y, y_pred, loss],\n",
    "               message='Debug y, y_pred, loss ', name='Debug_Print', first_n=5)\n",
    "# Not working is\n",
    "# tf.Print(loss, [y, y_pred, (y-y_pred)**2], name='Name', first_n=5)\n",
    "# loss = tf.Print(loss, y, name='Name', first_n=5)\n",
    "\n",
    "tf.train.SummaryWriter('/tmp/dumm/debug_print', tf.get_default_graph()).close()\n",
    "with tf.Session() as sess:\n",
    "    sess.run(tf.initialize_all_variables())\n",
    "    print('Loss : {}'.format(sess.run(loss, feed_dict={x:10, y:10})))"
   ]
  },
  {
   "cell_type": "markdown",
   "metadata": {
    "collapsed": true
   },
   "source": [
    "Without the bug in IPython this would also print (in stderr):\n",
    "```\n",
    "I tensorflow/core/kernels/logging_ops.cc:79] Debug y, y_pred, loss [10][21][121]\n",
    "```"
   ]
  }
 ],
 "metadata": {
  "kernelspec": {
   "display_name": "Python 2",
   "language": "python",
   "name": "python2"
  },
  "language_info": {
   "codemirror_mode": {
    "name": "ipython",
    "version": 2
   },
   "file_extension": ".py",
   "mimetype": "text/x-python",
   "name": "python",
   "nbconvert_exporter": "python",
   "pygments_lexer": "ipython2",
   "version": "2.7.10"
  }
 },
 "nbformat": 4,
 "nbformat_minor": 1
}
