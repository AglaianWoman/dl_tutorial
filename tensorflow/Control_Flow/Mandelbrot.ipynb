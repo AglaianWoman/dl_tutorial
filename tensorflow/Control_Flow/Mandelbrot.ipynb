{
 "cells": [
  {
   "cell_type": "markdown",
   "metadata": {},
   "source": [
    "### Mandelbrot\n",
    "This notebook demonstrates the use of a loop in TF. Note that in the [TensorFlow documentation](https://www.tensorflow.org/versions/r0.11/tutorials/mandelbrot/index.html) and [here](../simple_ops/Mandelbrot.ipynb) there are a alternative approaches which uses assignments `tf.assign` and `tf.assign_add` to update variables in the graph from python. \n",
    "\n",
    "### Definition of the Mandelbrot set\n",
    "Remember the 80ies! z is a complex number. We consider the recursive relation \n",
    "\n",
    "$$\n",
    "      z_{n+1} = z^2_{n} + c \\text{   with   } Z_0 = 0      \n",
    "$$\n",
    "\n",
    "Now consider several numbers c, like $c=0 + 0 \\cdot i$ if above recursion diverges, then c is part of the Mandelbrot set. "
   ]
  },
  {
   "cell_type": "code",
   "execution_count": 1,
   "metadata": {
    "collapsed": true
   },
   "outputs": [],
   "source": [
    "import tensorflow as tf\n",
    "import numpy as np\n",
    "import matplotlib.pyplot as plt\n",
    "import time\n",
    "%matplotlib inline"
   ]
  },
  {
   "cell_type": "code",
   "execution_count": 2,
   "metadata": {
    "collapsed": false
   },
   "outputs": [
    {
     "data": {
      "text/plain": [
       "(520, 600)"
      ]
     },
     "execution_count": 2,
     "metadata": {},
     "output_type": "execute_result"
    }
   ],
   "source": [
    "#  Preparing the grid\n",
    "Y, X = np.mgrid[-1.3:1.3:0.005, -2:1:0.005]\n",
    "C_ = np.asarray(X+1j*Y, dtype='complex64')\n",
    "Z_ = np.zeros_like(C_)\n",
    "C_.shape"
   ]
  },
  {
   "cell_type": "markdown",
   "metadata": {},
   "source": [
    "#### Loops\n",
    "[Loops](https://www.tensorflow.org/versions/r0.11/api_docs/python/control_flow_ops.html#while_loop) can be defined as:\n",
    "\n",
    "```\n",
    "    tf.while_loop(cond, body, loop_vars, ...)\n",
    "```\n",
    "Note that one can backpropagate (in TF calculate the symbolic grapdient) through loops. To use a loop you have to define 2 functions and have a loop variable. Let's make first a simple example:"
   ]
  },
  {
   "cell_type": "code",
   "execution_count": 3,
   "metadata": {
    "collapsed": false
   },
   "outputs": [
    {
     "name": "stdout",
     "output_type": "stream",
     "text": [
      "1.0\n",
      "10.0\n"
     ]
    }
   ],
   "source": [
    "def cond(i):\n",
    "    return tf.less(i, 10)\n",
    "\n",
    "def body(i):\n",
    "    # Complicated stuff, depending on i\n",
    "    return i + 1\n",
    "\n",
    "tf.reset_default_graph()\n",
    "i = tf.Variable(1.0, name = 'iterator')\n",
    "\n",
    "loop = tf.while_loop(cond, body, [i], name='my_while_loop')\n",
    "\n",
    "# Does not look too good\n",
    "tf.train.SummaryWriter(\"/tmp/dumm/loop\", tf.get_default_graph(), 'graph.pbtxt')\n",
    "\n",
    "with tf.Session() as sess:\n",
    "    tf.initialize_all_variables().run()\n",
    "    print(sess.run(i, ))\n",
    "    print(sess.run(loop))"
   ]
  },
  {
   "cell_type": "markdown",
   "metadata": {},
   "source": [
    "#### Loops may not have side effects\n",
    "\n",
    "The problem is that in a TensorFlow loop the `body` and `cond` function are not allowed to have side effects. I assume that this meanes that all variables have to be present locally. I guess this is due to the fact, that the loops might run on different devices and thus needs to get all they need locally. See also http://stackoverflow.com/questions/37571017/tensorflow-stuck-into-endless-loop-using-tf-while-loop/37573208#37573208"
   ]
  },
  {
   "cell_type": "code",
   "execution_count": 4,
   "metadata": {
    "collapsed": false
   },
   "outputs": [
    {
     "data": {
      "text/plain": [
       "(520, 600)"
      ]
     },
     "execution_count": 4,
     "metadata": {},
     "output_type": "execute_result"
    }
   ],
   "source": [
    "#  Preparing the grid\n",
    "Y, X = np.mgrid[-1.3:1.3:0.005, -2:1:0.005]\n",
    "C_ = np.asarray(X+1j*Y, dtype='complex64')\n",
    "Z_ = np.zeros_like(C_)\n",
    "C_.shape"
   ]
  },
  {
   "cell_type": "code",
   "execution_count": 5,
   "metadata": {
    "collapsed": false
   },
   "outputs": [
    {
     "name": "stdout",
     "output_type": "stream",
     "text": [
      "Total time 0.240833997726 msec\n"
     ]
    }
   ],
   "source": [
    "tf.reset_default_graph()\n",
    "# Would be great if there was a naming convention C_\n",
    "C = tf.placeholder(shape=C_.shape, dtype='complex64')\n",
    "Z = tf.Variable(tf.zeros(C_.shape, dtype='complex64'), name='Z')\n",
    "\n",
    "def cond(i, Z, C):\n",
    "    return tf.less(i, 200)\n",
    "\n",
    "def body(i, Z, C):\n",
    "    Z = Z*Z + C\n",
    "    return [i + 1, Z, C]\n",
    "\n",
    "i = tf.Variable(0, name='counter')\n",
    "loop = tf.while_loop(cond, body, [i, Z, C])\n",
    "\n",
    "init = tf.initialize_all_variables()\n",
    "# The Graph looks a bit messy\n",
    "writer = tf.train.SummaryWriter(\"/tmp/dumm/mandelbrot_loop\", tf.get_default_graph(), 'graph.pbtxt').close()\n",
    "with tf.Session() as sess:\n",
    "    sess.run(init)\n",
    "    start = time.time()\n",
    "    i, Z_out, C_out = sess.run(loop, {C:C_})\n",
    "    print('Total time {} msec'.format(time.time() - start))"
   ]
  },
  {
   "cell_type": "code",
   "execution_count": 6,
   "metadata": {
    "collapsed": false
   },
   "outputs": [
    {
     "data": {
      "text/plain": [
       "<matplotlib.image.AxesImage at 0x112476210>"
      ]
     },
     "execution_count": 6,
     "metadata": {},
     "output_type": "execute_result"
    },
    {
     "data": {
      "image/png": "[encoded data removed]",
      "text/plain": [
       "<matplotlib.figure.Figure at 0x1105ff610>"
      ]
     },
     "metadata": {},
     "output_type": "display_data"
    }
   ],
   "source": [
    "plt.imshow(np.abs(Z_out < 4))"
   ]
  }
 ],
 "metadata": {
  "kernelspec": {
   "display_name": "Python 2",
   "language": "python",
   "name": "python2"
  },
  "language_info": {
   "codemirror_mode": {
    "name": "ipython",
    "version": 2
   },
   "file_extension": ".py",
   "mimetype": "text/x-python",
   "name": "python",
   "nbconvert_exporter": "python",
   "pygments_lexer": "ipython2",
   "version": "2.7.10"
  }
 },
 "nbformat": 4,
 "nbformat_minor": 1
}
