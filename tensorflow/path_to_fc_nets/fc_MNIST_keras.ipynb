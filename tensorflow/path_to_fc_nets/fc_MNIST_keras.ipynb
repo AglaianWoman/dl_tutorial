{
 "cells": [
  {
   "cell_type": "markdown",
   "metadata": {},
   "source": [
    "# Multilayer perceptron in TensorFlow (using Keras)\n",
    "\n",
    "In this script we build a small multilayer perceptron with two hidden layers having 500 and 50 neurons each for classifying the MNIST database of handwritten digits using Keras."
   ]
  },
  {
   "cell_type": "code",
   "execution_count": 1,
   "metadata": {
    "collapsed": false
   },
   "outputs": [
    {
     "name": "stdout",
     "output_type": "stream",
     "text": [
      "((4000, 1, 28, 28), (4000,), 28)\n"
     ]
    },
    {
     "name": "stderr",
     "output_type": "stream",
     "text": [
      "Using TensorFlow backend.\n"
     ]
    },
    {
     "data": {
      "text/plain": [
       "(4000, 784)"
      ]
     },
     "execution_count": 1,
     "metadata": {},
     "output_type": "execute_result"
    }
   ],
   "source": [
    "%matplotlib inline\n",
    "import numpy as np\n",
    "import matplotlib.pyplot as plt\n",
    "import matplotlib.image as imgplot\n",
    "import numpy as np\n",
    "import cPickle as pickle\n",
    "import gzip\n",
    "import time\n",
    "import tensorflow as tf\n",
    "tf.set_random_seed(1)\n",
    "\n",
    "from keras.models import Sequential\n",
    "from keras.layers import Dense, Activation, Dropout\n",
    "import keras\n",
    "\n",
    "with gzip.open('../../lasagne/mnist_4000.pkl.gz', 'rb') as f:\n",
    "    (X,y) = pickle.load(f)\n",
    "PIXELS = len(X[0,0,0,:])\n",
    "\n",
    "print(X.shape, y.shape, PIXELS) #As read\n",
    "\n",
    "# We need to reshape for the MLP\n",
    "X = X.reshape([4000, 784])\n",
    "np.shape(X)"
   ]
  },
  {
   "cell_type": "code",
   "execution_count": 2,
   "metadata": {
    "collapsed": true
   },
   "outputs": [],
   "source": [
    "import tensorflow as tf\n",
    "sess = tf.Session()\n",
    "\n",
    "from keras import backend as K\n",
    "K.set_session(sess)"
   ]
  },
  {
   "cell_type": "code",
   "execution_count": 3,
   "metadata": {
    "collapsed": true
   },
   "outputs": [],
   "source": [
    "# Taken from http://stackoverflow.com/questions/29831489/numpy-1-hot-array\n",
    "def convertToOneHot(vector, num_classes=None):\n",
    "    result = np.zeros((len(vector), num_classes), dtype='int32')\n",
    "    result[np.arange(len(vector)), vector] = 1\n",
    "    return result"
   ]
  },
  {
   "cell_type": "code",
   "execution_count": 4,
   "metadata": {
    "collapsed": false
   },
   "outputs": [],
   "source": [
    "lambd = 0.000005\n",
    "from keras.regularizers import l2, activity_l2\n",
    "model = Sequential()\n",
    "model.add(Dense(500, batch_input_shape=(None, 784),activity_regularizer=activity_l2(lambd)))\n",
    "model.add(Dropout(0.3))\n",
    "#model.add(keras.layers.normalization.BatchNormalization())\n",
    "model.add(Activation('relu'))\n",
    "\n",
    "model.add(Dense(50,activity_regularizer=activity_l2(lambd)))\n",
    "model.add(Dropout(0.3))\n",
    "#model.add(keras.layers.normalization.BatchNormalization())\n",
    "model.add(Activation('relu'))\n",
    "\n",
    "model.add(Dense(10, activation='softmax',activity_regularizer=activity_l2(lambd)))\n",
    "model.compile(loss='categorical_crossentropy',\n",
    "              optimizer='adadelta',\n",
    "              metrics=['accuracy'])"
   ]
  },
  {
   "cell_type": "code",
   "execution_count": 5,
   "metadata": {
    "collapsed": false,
    "scrolled": true
   },
   "outputs": [
    {
     "name": "stdout",
     "output_type": "stream",
     "text": [
      "Train on 2400 samples, validate on 600 samples\n",
      "Epoch 1/50\n",
      "2400/2400 [==============================] - 0s - loss: 2.1494 - acc: 0.3933 - val_loss: 1.2867 - val_acc: 0.7917\n",
      "Epoch 2/50\n",
      "2400/2400 [==============================] - 0s - loss: 1.2997 - acc: 0.7133 - val_loss: 0.9447 - val_acc: 0.8333\n",
      "Epoch 3/50\n",
      "2400/2400 [==============================] - 0s - loss: 1.0261 - acc: 0.7975 - val_loss: 0.8312 - val_acc: 0.8567\n",
      "Epoch 4/50\n",
      "2400/2400 [==============================] - 0s - loss: 0.8982 - acc: 0.8429 - val_loss: 0.7674 - val_acc: 0.8767\n",
      "Epoch 5/50\n",
      "2400/2400 [==============================] - 0s - loss: 0.8015 - acc: 0.8642 - val_loss: 0.7278 - val_acc: 0.8933\n",
      "Epoch 6/50\n",
      "2400/2400 [==============================] - 0s - loss: 0.7231 - acc: 0.8908 - val_loss: 0.7060 - val_acc: 0.8917\n",
      "Epoch 7/50\n",
      "2400/2400 [==============================] - 0s - loss: 0.6833 - acc: 0.8938 - val_loss: 0.6903 - val_acc: 0.9067\n",
      "Epoch 8/50\n",
      "2400/2400 [==============================] - 0s - loss: 0.6491 - acc: 0.9050 - val_loss: 0.6765 - val_acc: 0.9033\n",
      "Epoch 9/50\n",
      "2400/2400 [==============================] - 0s - loss: 0.6167 - acc: 0.9179 - val_loss: 0.6708 - val_acc: 0.9000\n",
      "Epoch 10/50\n",
      "2400/2400 [==============================] - 0s - loss: 0.5752 - acc: 0.9304 - val_loss: 0.6501 - val_acc: 0.9067\n",
      "Epoch 11/50\n",
      "2400/2400 [==============================] - 0s - loss: 0.5590 - acc: 0.9287 - val_loss: 0.6422 - val_acc: 0.9150\n",
      "Epoch 12/50\n",
      "2400/2400 [==============================] - 0s - loss: 0.5141 - acc: 0.9417 - val_loss: 0.6363 - val_acc: 0.9117\n",
      "Epoch 13/50\n",
      "2400/2400 [==============================] - 0s - loss: 0.4957 - acc: 0.9496 - val_loss: 0.6334 - val_acc: 0.9133\n",
      "Epoch 14/50\n",
      "2400/2400 [==============================] - 0s - loss: 0.4916 - acc: 0.9483 - val_loss: 0.6251 - val_acc: 0.9117\n",
      "Epoch 15/50\n",
      "2400/2400 [==============================] - 0s - loss: 0.4584 - acc: 0.9592 - val_loss: 0.6159 - val_acc: 0.9033\n",
      "Epoch 16/50\n",
      "2400/2400 [==============================] - 0s - loss: 0.4437 - acc: 0.9583 - val_loss: 0.6138 - val_acc: 0.9117\n",
      "Epoch 17/50\n",
      "2400/2400 [==============================] - 0s - loss: 0.4324 - acc: 0.9617 - val_loss: 0.6207 - val_acc: 0.9050\n",
      "Epoch 18/50\n",
      "2400/2400 [==============================] - 0s - loss: 0.4158 - acc: 0.9683 - val_loss: 0.6119 - val_acc: 0.9067\n",
      "Epoch 19/50\n",
      "2400/2400 [==============================] - 0s - loss: 0.4067 - acc: 0.9650 - val_loss: 0.6133 - val_acc: 0.9067\n",
      "Epoch 20/50\n",
      "2400/2400 [==============================] - 0s - loss: 0.3873 - acc: 0.9642 - val_loss: 0.6017 - val_acc: 0.9067\n",
      "Epoch 21/50\n",
      "2400/2400 [==============================] - 0s - loss: 0.3813 - acc: 0.9742 - val_loss: 0.6007 - val_acc: 0.9083\n",
      "Epoch 22/50\n",
      "2400/2400 [==============================] - 0s - loss: 0.3630 - acc: 0.9771 - val_loss: 0.6010 - val_acc: 0.9050\n",
      "Epoch 23/50\n",
      "2400/2400 [==============================] - 0s - loss: 0.3515 - acc: 0.9783 - val_loss: 0.6018 - val_acc: 0.9033\n",
      "Epoch 24/50\n",
      "2400/2400 [==============================] - 0s - loss: 0.3519 - acc: 0.9762 - val_loss: 0.5963 - val_acc: 0.9117\n",
      "Epoch 25/50\n",
      "2400/2400 [==============================] - 0s - loss: 0.3496 - acc: 0.9742 - val_loss: 0.6007 - val_acc: 0.9067\n",
      "Epoch 26/50\n",
      "2400/2400 [==============================] - 0s - loss: 0.3294 - acc: 0.9817 - val_loss: 0.5962 - val_acc: 0.9067\n",
      "Epoch 27/50\n",
      "2400/2400 [==============================] - 0s - loss: 0.3177 - acc: 0.9850 - val_loss: 0.5985 - val_acc: 0.9050\n",
      "Epoch 28/50\n",
      "2400/2400 [==============================] - 0s - loss: 0.3128 - acc: 0.9837 - val_loss: 0.5895 - val_acc: 0.8983\n",
      "Epoch 29/50\n",
      "2400/2400 [==============================] - 0s - loss: 0.3090 - acc: 0.9829 - val_loss: 0.5952 - val_acc: 0.9017\n",
      "Epoch 30/50\n",
      "2400/2400 [==============================] - 0s - loss: 0.2940 - acc: 0.9879 - val_loss: 0.5860 - val_acc: 0.9083\n",
      "Epoch 31/50\n",
      "2400/2400 [==============================] - 0s - loss: 0.2924 - acc: 0.9862 - val_loss: 0.5825 - val_acc: 0.9100\n",
      "Epoch 32/50\n",
      "2400/2400 [==============================] - 0s - loss: 0.2791 - acc: 0.9892 - val_loss: 0.5808 - val_acc: 0.9067\n",
      "Epoch 33/50\n",
      "2400/2400 [==============================] - 0s - loss: 0.2738 - acc: 0.9896 - val_loss: 0.5837 - val_acc: 0.9133\n",
      "Epoch 34/50\n",
      "2400/2400 [==============================] - 0s - loss: 0.2653 - acc: 0.9879 - val_loss: 0.5832 - val_acc: 0.9083\n",
      "Epoch 35/50\n",
      "2400/2400 [==============================] - 0s - loss: 0.2704 - acc: 0.9875 - val_loss: 0.5735 - val_acc: 0.9100\n",
      "Epoch 36/50\n",
      "2400/2400 [==============================] - 0s - loss: 0.2603 - acc: 0.9925 - val_loss: 0.5842 - val_acc: 0.9017\n",
      "Epoch 37/50\n",
      "2400/2400 [==============================] - 0s - loss: 0.2531 - acc: 0.9904 - val_loss: 0.5864 - val_acc: 0.9050\n",
      "Epoch 38/50\n",
      "2400/2400 [==============================] - 0s - loss: 0.2507 - acc: 0.9892 - val_loss: 0.5866 - val_acc: 0.9033\n",
      "Epoch 39/50\n",
      "2400/2400 [==============================] - 0s - loss: 0.2420 - acc: 0.9925 - val_loss: 0.5864 - val_acc: 0.9100\n",
      "Epoch 40/50\n",
      "2400/2400 [==============================] - 0s - loss: 0.2443 - acc: 0.9900 - val_loss: 0.5796 - val_acc: 0.9000\n",
      "Epoch 41/50\n",
      "2400/2400 [==============================] - 0s - loss: 0.2409 - acc: 0.9883 - val_loss: 0.5716 - val_acc: 0.9017\n",
      "Epoch 42/50\n",
      "2400/2400 [==============================] - 0s - loss: 0.2287 - acc: 0.9946 - val_loss: 0.5767 - val_acc: 0.9067\n",
      "Epoch 43/50\n",
      "2400/2400 [==============================] - 0s - loss: 0.2225 - acc: 0.9958 - val_loss: 0.5747 - val_acc: 0.9100\n",
      "Epoch 44/50\n",
      "2400/2400 [==============================] - 0s - loss: 0.2245 - acc: 0.9921 - val_loss: 0.5812 - val_acc: 0.9117\n",
      "Epoch 45/50\n",
      "2400/2400 [==============================] - 0s - loss: 0.2186 - acc: 0.9933 - val_loss: 0.5773 - val_acc: 0.9050\n",
      "Epoch 46/50\n",
      "2400/2400 [==============================] - 0s - loss: 0.2094 - acc: 0.9954 - val_loss: 0.5757 - val_acc: 0.9033\n",
      "Epoch 47/50\n",
      "2400/2400 [==============================] - 0s - loss: 0.2094 - acc: 0.9942 - val_loss: 0.5724 - val_acc: 0.9050\n",
      "Epoch 48/50\n",
      "2400/2400 [==============================] - 0s - loss: 0.2032 - acc: 0.9958 - val_loss: 0.5694 - val_acc: 0.9083\n",
      "Epoch 49/50\n",
      "2400/2400 [==============================] - 0s - loss: 0.2005 - acc: 0.9967 - val_loss: 0.5734 - val_acc: 0.9033\n",
      "Epoch 50/50\n",
      "2400/2400 [==============================] - 0s - loss: 0.1965 - acc: 0.9962 - val_loss: 0.5817 - val_acc: 0.9017\n"
     ]
    }
   ],
   "source": [
    "#tensorboard = keras.callbacks.TensorBoard(log_dir='/tmp/dumm/run4', write_graph=True)\n",
    "history = model.fit(X[0:2400], \n",
    "          convertToOneHot(y[0:2400],10), \n",
    "          nb_epoch=50, \n",
    "          batch_size=128, \n",
    "          #callbacks=[tensorboard],\n",
    "          validation_data=[X[2400:3000], convertToOneHot(y[2400:3000],10)])"
   ]
  },
  {
   "cell_type": "code",
   "execution_count": 6,
   "metadata": {
    "collapsed": false
   },
   "outputs": [
    {
     "data": {
      "text/plain": [
       "(0, 1.1)"
      ]
     },
     "execution_count": 6,
     "metadata": {},
     "output_type": "execute_result"
    },
    {
     "data": {
      "image/png": "[encoded data removed]",
      "text/plain": [
       "<matplotlib.figure.Figure at 0x10f2c8090>"
      ]
     },
     "metadata": {},
     "output_type": "display_data"
    }
   ],
   "source": [
    "plt.plot(history.history['acc'])\n",
    "plt.plot(history.history['val_acc'])\n",
    "plt.plot(history.history['loss'])\n",
    "plt.plot(history.history['val_loss'])\n",
    "plt.legend(['acc', 'val_acc', 'loss', 'val_loss'],loc=10)\n",
    "plt.ylim((0,1.1))"
   ]
  }
 ],
 "metadata": {
  "kernelspec": {
   "display_name": "Python 2",
   "language": "python",
   "name": "python2"
  },
  "language_info": {
   "codemirror_mode": {
    "name": "ipython",
    "version": 2
   },
   "file_extension": ".py",
   "mimetype": "text/x-python",
   "name": "python",
   "nbconvert_exporter": "python",
   "pygments_lexer": "ipython2",
   "version": "2.7.10"
  }
 },
 "nbformat": 4,
 "nbformat_minor": 1
}
