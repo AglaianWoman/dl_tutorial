{
 "cells": [
  {
   "cell_type": "markdown",
   "metadata": {
    "deletable": true,
    "editable": true
   },
   "source": [
    "# Multilayer perceptron in TensorFlow (using Keras)\n",
    "\n",
    "In this script we build a small multilayer perceptron with two hidden layers having 500 and 50 neurons each for classifying the MNIST database of handwritten digits using Keras."
   ]
  },
  {
   "cell_type": "code",
   "execution_count": 2,
   "metadata": {
    "collapsed": false,
    "deletable": true,
    "editable": true
   },
   "outputs": [
    {
     "data": {
      "text/plain": [
       "('1.2.2',\n",
       " '1.0.0',\n",
       " sys.version_info(major=3, minor=4, micro=3, releaselevel='final', serial=0))"
      ]
     },
     "execution_count": 2,
     "metadata": {},
     "output_type": "execute_result"
    }
   ],
   "source": [
    "%matplotlib inline\n",
    "import numpy as np\n",
    "import matplotlib.pyplot as plt\n",
    "import matplotlib.image as imgplot\n",
    "import numpy as np\n",
    "\n",
    "import time\n",
    "import tensorflow as tf\n",
    "tf.set_random_seed(1)\n",
    "\n",
    "from keras.models import Sequential\n",
    "from keras.layers import Dense, Activation, Dropout\n",
    "import keras\n",
    "import sys\n",
    "keras.__version__, tf.__version__, sys.version_info"
   ]
  },
  {
   "cell_type": "code",
   "execution_count": 3,
   "metadata": {
    "collapsed": false,
    "deletable": true,
    "editable": true
   },
   "outputs": [
    {
     "name": "stdout",
     "output_type": "stream",
     "text": [
      "(4000, 1, 28, 28) (4000,) 28\n"
     ]
    },
    {
     "data": {
      "text/plain": [
       "(4000, 784)"
      ]
     },
     "execution_count": 3,
     "metadata": {},
     "output_type": "execute_result"
    }
   ],
   "source": [
    "# To be compatible with python3 and python2\n",
    "try:\n",
    "    import cPickle as pickle\n",
    "except ImportError:\n",
    "    import pickle\n",
    "import gzip\n",
    "\n",
    "with gzip.open('../../lasagne/mnist_4000.pkl.gz', 'rb') as f:\n",
    "    if sys.version_info.major > 2:\n",
    "        (X,y) = pickle.load(f, encoding='latin1')\n",
    "    else:\n",
    "        (X,y) = pickle.load(f)\n",
    "PIXELS = len(X[0,0,0,:])\n",
    "\n",
    "print(X.shape, y.shape, PIXELS) #As read\n",
    "# We need to reshape for the MLP\n",
    "X = X.reshape([4000, 784])\n",
    "np.shape(X)"
   ]
  },
  {
   "cell_type": "code",
   "execution_count": 4,
   "metadata": {
    "collapsed": true,
    "deletable": true,
    "editable": true
   },
   "outputs": [],
   "source": [
    "# Taken from http://stackoverflow.com/questions/29831489/numpy-1-hot-array\n",
    "def convertToOneHot(vector, num_classes=None):\n",
    "    result = np.zeros((len(vector), num_classes), dtype='int32')\n",
    "    result[np.arange(len(vector)), vector] = 1\n",
    "    return result"
   ]
  },
  {
   "cell_type": "code",
   "execution_count": 5,
   "metadata": {
    "collapsed": false,
    "deletable": true,
    "editable": true
   },
   "outputs": [],
   "source": [
    "lambd = 0.000005\n",
    "from keras.regularizers import l2, activity_l2\n",
    "model = Sequential()\n",
    "model.add(Dense(500, batch_input_shape=(None, 784),activity_regularizer=activity_l2(lambd)))\n",
    "model.add(Dropout(0.3))\n",
    "#model.add(keras.layers.normalization.BatchNormalization())\n",
    "model.add(Activation('relu'))\n",
    "\n",
    "model.add(Dense(50,activity_regularizer=activity_l2(lambd)))\n",
    "model.add(Dropout(0.3))\n",
    "#model.add(keras.layers.normalization.BatchNormalization())\n",
    "model.add(Activation('relu'))\n",
    "\n",
    "model.add(Dense(10, activation='softmax',activity_regularizer=activity_l2(lambd)))\n",
    "model.compile(loss='categorical_crossentropy',\n",
    "              optimizer='adadelta',\n",
    "              metrics=['accuracy'])"
   ]
  },
  {
   "cell_type": "code",
   "execution_count": 6,
   "metadata": {
    "collapsed": false,
    "deletable": true,
    "editable": true,
    "scrolled": true
   },
   "outputs": [
    {
     "name": "stdout",
     "output_type": "stream",
     "text": [
      "Train on 2400 samples, validate on 600 samples\n",
      "Epoch 1/10\n",
      "0s - loss: 2.1114 - acc: 0.4108 - val_loss: 1.2449 - val_acc: 0.7833\n",
      "Epoch 2/10\n",
      "0s - loss: 1.2998 - acc: 0.7013 - val_loss: 0.9225 - val_acc: 0.8533\n",
      "Epoch 3/10\n",
      "0s - loss: 1.0249 - acc: 0.7933 - val_loss: 0.8000 - val_acc: 0.8850\n",
      "Epoch 4/10\n",
      "0s - loss: 0.8806 - acc: 0.8375 - val_loss: 0.7380 - val_acc: 0.8933\n",
      "Epoch 5/10\n",
      "0s - loss: 0.7966 - acc: 0.8654 - val_loss: 0.7001 - val_acc: 0.8950\n",
      "Epoch 6/10\n",
      "0s - loss: 0.7342 - acc: 0.8833 - val_loss: 0.6742 - val_acc: 0.8983\n",
      "Epoch 7/10\n",
      "0s - loss: 0.6983 - acc: 0.8996 - val_loss: 0.6506 - val_acc: 0.9050\n",
      "Epoch 8/10\n",
      "0s - loss: 0.6551 - acc: 0.9058 - val_loss: 0.6350 - val_acc: 0.9100\n",
      "Epoch 9/10\n",
      "0s - loss: 0.6193 - acc: 0.9200 - val_loss: 0.6194 - val_acc: 0.9200\n",
      "Epoch 10/10\n",
      "0s - loss: 0.5839 - acc: 0.9267 - val_loss: 0.6173 - val_acc: 0.9117\n"
     ]
    }
   ],
   "source": [
    "#tensorboard = keras.callbacks.TensorBoard(log_dir='/tmp/dumm/run4', write_graph=True)\n",
    "history = model.fit(X[0:2400], \n",
    "          convertToOneHot(y[0:2400],10), \n",
    "          nb_epoch=10, \n",
    "          batch_size=128, \n",
    "          #callbacks=[tensorboard],\n",
    "          validation_data=[X[2400:3000], convertToOneHot(y[2400:3000],10)], verbose=2)\n",
    "\n",
    "# Attention, if you run this in a cocker container, setting verbose=1 sometimes kills the whole container \n",
    "# ERRO[0695] error getting events from daemon: EOF"
   ]
  },
  {
   "cell_type": "code",
   "execution_count": 7,
   "metadata": {
    "collapsed": false,
    "deletable": true,
    "editable": true
   },
   "outputs": [
    {
     "data": {
      "text/plain": [
       "(0, 1.1)"
      ]
     },
     "execution_count": 7,
     "metadata": {},
     "output_type": "execute_result"
    },
    {
     "data": {
      "image/png": "[encoded data removed]",
      "text/plain": [
       "<matplotlib.figure.Figure at 0x7f3d9c2b0240>"
      ]
     },
     "metadata": {},
     "output_type": "display_data"
    }
   ],
   "source": [
    "plt.plot(history.history['acc'])\n",
    "plt.plot(history.history['val_acc'])\n",
    "plt.plot(history.history['loss'])\n",
    "plt.plot(history.history['val_loss'])\n",
    "plt.legend(['acc', 'val_acc', 'loss', 'val_loss'],loc=10)\n",
    "plt.ylim((0,1.1))"
   ]
  },
  {
   "cell_type": "code",
   "execution_count": null,
   "metadata": {
    "collapsed": true,
    "deletable": true,
    "editable": true
   },
   "outputs": [],
   "source": []
  }
 ],
 "metadata": {
  "kernelspec": {
   "display_name": "Python 3",
   "language": "python",
   "name": "python3"
  },
  "language_info": {
   "codemirror_mode": {
    "name": "ipython",
    "version": 3
   },
   "file_extension": ".py",
   "mimetype": "text/x-python",
   "name": "python",
   "nbconvert_exporter": "python",
   "pygments_lexer": "ipython3",
   "version": "3.4.3"
  }
 },
 "nbformat": 4,
 "nbformat_minor": 1
}
