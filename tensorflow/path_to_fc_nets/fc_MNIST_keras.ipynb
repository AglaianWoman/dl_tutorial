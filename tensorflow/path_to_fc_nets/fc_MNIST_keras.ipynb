{
 "cells": [
  {
   "cell_type": "markdown",
   "metadata": {
    "deletable": true,
    "editable": true
   },
   "source": [
    "# Tricks of the trade TF/Keras [small dataset]\n",
    "\n",
    "In this script we build a small multilayer perceptron with two hidden layers having 500 and 50 neurons each for classifying the MNIST database of handwritten digits using Keras. It uses a small data set so that it can be trained on the CPU.\n",
    "\n",
    "Below are several experiments."
   ]
  },
  {
   "cell_type": "code",
   "execution_count": 1,
   "metadata": {
    "collapsed": false,
    "deletable": true,
    "editable": true,
    "scrolled": true
   },
   "outputs": [
    {
     "name": "stderr",
     "output_type": "stream",
     "text": [
      "Using TensorFlow backend.\n"
     ]
    },
    {
     "data": {
      "text/plain": [
       "('1.2.2',\n",
       " '1.0.0',\n",
       " sys.version_info(major=3, minor=4, micro=3, releaselevel='final', serial=0))"
      ]
     },
     "execution_count": 1,
     "metadata": {},
     "output_type": "execute_result"
    }
   ],
   "source": [
    "%matplotlib inline\n",
    "import numpy as np\n",
    "import matplotlib.pyplot as plt\n",
    "import matplotlib.image as imgplot\n",
    "import numpy as np\n",
    "\n",
    "import time\n",
    "import tensorflow as tf\n",
    "tf.set_random_seed(1)\n",
    "\n",
    "from keras.models import Sequential\n",
    "from keras.layers import Dense, Activation, Dropout\n",
    "import keras\n",
    "import sys\n",
    "keras.__version__, tf.__version__, sys.version_info"
   ]
  },
  {
   "cell_type": "code",
   "execution_count": 2,
   "metadata": {
    "collapsed": false,
    "deletable": true,
    "editable": true
   },
   "outputs": [
    {
     "name": "stdout",
     "output_type": "stream",
     "text": [
      "(4000, 1, 28, 28) (4000,) 28\n"
     ]
    },
    {
     "data": {
      "text/plain": [
       "(4000, 784)"
      ]
     },
     "execution_count": 2,
     "metadata": {},
     "output_type": "execute_result"
    }
   ],
   "source": [
    "# To be compatible with python3 and python2\n",
    "try:\n",
    "    import cPickle as pickle\n",
    "except ImportError:\n",
    "    import pickle\n",
    "import gzip\n",
    "\n",
    "with gzip.open('../../lasagne/mnist_4000.pkl.gz', 'rb') as f:\n",
    "    if sys.version_info.major > 2:\n",
    "        (X,y) = pickle.load(f, encoding='latin1')\n",
    "    else:\n",
    "        (X,y) = pickle.load(f)\n",
    "PIXELS = len(X[0,0,0,:])\n",
    "\n",
    "print(X.shape, y.shape, PIXELS) #As read\n",
    "# We need to reshape for the MLP\n",
    "X = X.reshape([4000, 784])\n",
    "np.shape(X)"
   ]
  },
  {
   "cell_type": "code",
   "execution_count": 7,
   "metadata": {
    "collapsed": true,
    "deletable": true,
    "editable": true
   },
   "outputs": [],
   "source": [
    "# Taken from http://stackoverflow.com/questions/29831489/numpy-1-hot-array\n",
    "def convertToOneHot(vector, num_classes=None):\n",
    "    result = np.zeros((len(vector), num_classes), dtype='int32')\n",
    "    result[np.arange(len(vector)), vector] = 1\n",
    "    return result"
   ]
  },
  {
   "cell_type": "markdown",
   "metadata": {
    "deletable": true,
    "editable": true
   },
   "source": [
    "### Suggestions for the experiment\n",
    "\n",
    "Let the experiments run for 100 epochs. You might need to restart the kernel so that namings of the layers are the same\n",
    "\n",
    "* with init zero \n",
    "* with sigmoid activation \n",
    "* with ReLU activation\n",
    "* with dropout (p=0.3)\n",
    "* with batch-normalization and dropout"
   ]
  },
  {
   "cell_type": "code",
   "execution_count": 4,
   "metadata": {
    "collapsed": true
   },
   "outputs": [],
   "source": [
    "### First model with all zeros\n",
    "name = 'sigmoid_init0'\n",
    "model = Sequential()\n",
    "model.add(Dense(500, batch_input_shape=(None, 784), init='zero'))\n",
    "model.add(Activation('sigmoid'))\n",
    "\n",
    "model.add(Dense(50,init='zero'))\n",
    "model.add(Activation('sigmoid'))\n",
    "\n",
    "model.add(Dense(10, activation='softmax',init='zero'))\n",
    "model.compile(loss='categorical_crossentropy',\n",
    "              optimizer='adadelta',\n",
    "              metrics=['accuracy'])"
   ]
  },
  {
   "cell_type": "code",
   "execution_count": 13,
   "metadata": {
    "collapsed": false,
    "deletable": true,
    "editable": true
   },
   "outputs": [],
   "source": [
    "### Model with default initialization \n",
    "name = 'sigmoid'\n",
    "model = Sequential()\n",
    "model.add(Dense(500, batch_input_shape=(None, 784)))\n",
    "#model.add(Dropout(0.3))\n",
    "#model.add(keras.layers.normalization.BatchNormalization())\n",
    "model.add(Activation('sigmoid'))\n",
    "\n",
    "model.add(Dense(50))\n",
    "#model.add(Dropout(0.3))\n",
    "#model.add(keras.layers.normalization.BatchNormalization())\n",
    "model.add(Activation('sigmoid'))\n",
    "\n",
    "model.add(Dense(10, activation='softmax'))\n",
    "model.compile(loss='categorical_crossentropy',\n",
    "              optimizer='adadelta',\n",
    "              metrics=['accuracy'])"
   ]
  },
  {
   "cell_type": "code",
   "execution_count": 4,
   "metadata": {
    "collapsed": true
   },
   "outputs": [],
   "source": [
    "### Model with default initialization \n",
    "name = 'relu'\n",
    "model = Sequential()\n",
    "model.add(Dense(500, batch_input_shape=(None, 784)))\n",
    "#model.add(Dropout(0.3))\n",
    "#model.add(keras.layers.normalization.BatchNormalization())\n",
    "model.add(Activation('relu'))\n",
    "\n",
    "model.add(Dense(50))\n",
    "#model.add(Dropout(0.3))\n",
    "#model.add(keras.layers.normalization.BatchNormalization())\n",
    "model.add(Activation('relu'))\n",
    "\n",
    "model.add(Dense(10, activation='softmax'))\n",
    "model.compile(loss='categorical_crossentropy',\n",
    "              optimizer='adadelta',\n",
    "              metrics=['accuracy'])"
   ]
  },
  {
   "cell_type": "code",
   "execution_count": 4,
   "metadata": {
    "collapsed": true
   },
   "outputs": [],
   "source": [
    "### Model with default initialization \n",
    "name = 'dropout'\n",
    "model = Sequential()\n",
    "model.add(Dense(500, batch_input_shape=(None, 784)))\n",
    "model.add(Dropout(0.3))\n",
    "#model.add(keras.layers.normalization.BatchNormalization())\n",
    "model.add(Activation('relu'))\n",
    "\n",
    "model.add(Dense(50))\n",
    "model.add(Dropout(0.3))\n",
    "#model.add(keras.layers.normalization.BatchNormalization())\n",
    "model.add(Activation('relu'))\n",
    "\n",
    "model.add(Dense(10, activation='softmax'))\n",
    "model.compile(loss='categorical_crossentropy',\n",
    "              optimizer='adadelta',\n",
    "              metrics=['accuracy'])"
   ]
  },
  {
   "cell_type": "code",
   "execution_count": 3,
   "metadata": {
    "collapsed": true
   },
   "outputs": [],
   "source": [
    "### Model with default initialization \n",
    "name = 'dropout_batch'\n",
    "model = Sequential()\n",
    "model.add(Dense(500, batch_input_shape=(None, 784)))\n",
    "model.add(Dropout(0.3))\n",
    "model.add(keras.layers.normalization.BatchNormalization())\n",
    "model.add(Activation('relu'))\n",
    "\n",
    "model.add(Dense(50))\n",
    "model.add(Dropout(0.3))\n",
    "model.add(keras.layers.normalization.BatchNormalization())\n",
    "model.add(Activation('relu'))\n",
    "\n",
    "model.add(Dense(10, activation='softmax'))\n",
    "model.compile(loss='categorical_crossentropy',\n",
    "              optimizer='adadelta',\n",
    "              metrics=['accuracy'])"
   ]
  },
  {
   "cell_type": "code",
   "execution_count": 4,
   "metadata": {
    "collapsed": false,
    "deletable": true,
    "editable": true
   },
   "outputs": [
    {
     "name": "stdout",
     "output_type": "stream",
     "text": [
      "____________________________________________________________________________________________________\n",
      "Layer (type)                     Output Shape          Param #     Connected to                     \n",
      "====================================================================================================\n",
      "dense_1 (Dense)                  (None, 500)           392500      dense_input_1[0][0]              \n",
      "____________________________________________________________________________________________________\n",
      "dropout_1 (Dropout)              (None, 500)           0           dense_1[0][0]                    \n",
      "____________________________________________________________________________________________________\n",
      "batchnormalization_1 (BatchNorma (None, 500)           2000        dropout_1[0][0]                  \n",
      "____________________________________________________________________________________________________\n",
      "activation_1 (Activation)        (None, 500)           0           batchnormalization_1[0][0]       \n",
      "____________________________________________________________________________________________________\n",
      "dense_2 (Dense)                  (None, 50)            25050       activation_1[0][0]               \n",
      "____________________________________________________________________________________________________\n",
      "dropout_2 (Dropout)              (None, 50)            0           dense_2[0][0]                    \n",
      "____________________________________________________________________________________________________\n",
      "batchnormalization_2 (BatchNorma (None, 50)            200         dropout_2[0][0]                  \n",
      "____________________________________________________________________________________________________\n",
      "activation_2 (Activation)        (None, 50)            0           batchnormalization_2[0][0]       \n",
      "____________________________________________________________________________________________________\n",
      "dense_3 (Dense)                  (None, 10)            510         activation_2[0][0]               \n",
      "====================================================================================================\n",
      "Total params: 420,260\n",
      "Trainable params: 419,160\n",
      "Non-trainable params: 1,100\n",
      "____________________________________________________________________________________________________\n"
     ]
    }
   ],
   "source": [
    "model.summary()"
   ]
  },
  {
   "cell_type": "markdown",
   "metadata": {
    "deletable": true,
    "editable": true
   },
   "source": [
    "### Untrained model\n"
   ]
  },
  {
   "cell_type": "code",
   "execution_count": 5,
   "metadata": {
    "collapsed": false,
    "deletable": true,
    "editable": true
   },
   "outputs": [
    {
     "data": {
      "text/plain": [
       "-2.3025850929940455"
      ]
     },
     "execution_count": 5,
     "metadata": {},
     "output_type": "execute_result"
    }
   ],
   "source": [
    "np.log(0.1)"
   ]
  },
  {
   "cell_type": "code",
   "execution_count": 8,
   "metadata": {
    "collapsed": false,
    "deletable": true,
    "editable": true
   },
   "outputs": [
    {
     "name": "stdout",
     "output_type": "stream",
     "text": [
      "1984/2000 [============================>.] - ETA: 0s\b\b\b\b\b\b\b\b\b\b\b\b\b\b\b\b\b\b\b\b\b\b\b\b\b\b\b\b\b\b\b\b\b\b\b\b\b\b\b\b\b\b\b\b\b\b\b\b\b\b\b\b\b\b\b\b\b\b\b\b\b\b\b\b\b\b\b\b\b\b\b\b\b\b\b\b\b\b\b\b\b\b\b\b\b\b\b\b\b\b\b\b\b\b\b\b\b\b\b\b\b\b\b\b\b\b\b\b\b\b\b\b\b\b\b\b\b\b\b\b\b\b\b\b\b\b\b\b\b\b\b\b\b\b\b\b\b\b\b\b\b\b\b\b\b\b\b\b\b\b\b\b\b\b\b\b\b\b\b\b\b\b\b\b\b\b\b\b\b\b\b\b\b\b\b\b\b\b\b\b\b\b\b\b\b\b\b\b\b\b\b\b\b\b\b\b\b\b\b\b\b\b\b\b\b\b\b\b\b\b\b\b\b\b\b\b\b\b\b\b\b\b\b\b\b\b\b\b\b\b\b\b\b\b\b\b\b\b\b\b\b\b\b\b\b\b\b\b\b\b\b\b\b\b\b\b\b\b\b\b\b\b\b\b\b\b\b\b\b\b\b\b\b\b\b\b\b\b\b\b\b\b\b\b\b\b\b\b\b\b\b\b\b\b\b\b\b\b\b\b\b\b\b\b\b\b\b\b\b\b\b\b"
     ]
    },
    {
     "data": {
      "text/plain": [
       "[2.6063219032287597, 0.082000000000000003]"
      ]
     },
     "execution_count": 8,
     "metadata": {},
     "output_type": "execute_result"
    }
   ],
   "source": [
    "model.evaluate(X[0:2000], convertToOneHot(y[0:2000],10))"
   ]
  },
  {
   "cell_type": "code",
   "execution_count": 11,
   "metadata": {
    "collapsed": false
   },
   "outputs": [
    {
     "name": "stdout",
     "output_type": "stream",
     "text": [
      "10/10 [==============================] - 0s\n"
     ]
    },
    {
     "data": {
      "text/plain": [
       "array([9, 4, 0, 9, 7, 9, 9, 9, 9, 9])"
      ]
     },
     "execution_count": 11,
     "metadata": {},
     "output_type": "execute_result"
    }
   ],
   "source": [
    "model.predict_classes(X[0:10])"
   ]
  },
  {
   "cell_type": "code",
   "execution_count": 16,
   "metadata": {
    "collapsed": true,
    "deletable": true,
    "editable": true
   },
   "outputs": [],
   "source": [
    "#model.save('/tmp/start.keras')\n",
    "#%ls -hl /tmp/start.keras"
   ]
  },
  {
   "cell_type": "markdown",
   "metadata": {},
   "source": [
    "## Training"
   ]
  },
  {
   "cell_type": "code",
   "execution_count": 13,
   "metadata": {
    "collapsed": true
   },
   "outputs": [],
   "source": [
    "log_dir='/notebooks/tensorflow/path_to_fc_nets/tb/' + name"
   ]
  },
  {
   "cell_type": "code",
   "execution_count": 14,
   "metadata": {
    "collapsed": false,
    "deletable": true,
    "editable": true,
    "scrolled": true
   },
   "outputs": [
    {
     "name": "stdout",
     "output_type": "stream",
     "text": [
      "Train on 2400 samples, validate on 600 samples\n",
      "INFO:tensorflow:Summary name dense_1_W:0 is illegal; using dense_1_W_0 instead.\n",
      "INFO:tensorflow:Summary name dense_1_b:0 is illegal; using dense_1_b_0 instead.\n",
      "INFO:tensorflow:Summary name batchnormalization_1_gamma:0 is illegal; using batchnormalization_1_gamma_0 instead.\n",
      "INFO:tensorflow:Summary name batchnormalization_1_beta:0 is illegal; using batchnormalization_1_beta_0 instead.\n",
      "INFO:tensorflow:Summary name batchnormalization_1_running_mean:0 is illegal; using batchnormalization_1_running_mean_0 instead.\n",
      "INFO:tensorflow:Summary name batchnormalization_1_running_std:0 is illegal; using batchnormalization_1_running_std_0 instead.\n",
      "INFO:tensorflow:Summary name dense_2_W:0 is illegal; using dense_2_W_0 instead.\n",
      "INFO:tensorflow:Summary name dense_2_b:0 is illegal; using dense_2_b_0 instead.\n",
      "INFO:tensorflow:Summary name batchnormalization_2_gamma:0 is illegal; using batchnormalization_2_gamma_0 instead.\n",
      "INFO:tensorflow:Summary name batchnormalization_2_beta:0 is illegal; using batchnormalization_2_beta_0 instead.\n",
      "INFO:tensorflow:Summary name batchnormalization_2_running_mean:0 is illegal; using batchnormalization_2_running_mean_0 instead.\n",
      "INFO:tensorflow:Summary name batchnormalization_2_running_std:0 is illegal; using batchnormalization_2_running_std_0 instead.\n",
      "INFO:tensorflow:Summary name dense_3_W:0 is illegal; using dense_3_W_0 instead.\n",
      "INFO:tensorflow:Summary name dense_3_b:0 is illegal; using dense_3_b_0 instead.\n",
      "Epoch 1/100\n",
      "0s - loss: 1.9390 - acc: 0.3362 - val_loss: 1.1358 - val_acc: 0.7133\n",
      "Epoch 2/100\n",
      "0s - loss: 1.1839 - acc: 0.7042 - val_loss: 0.7422 - val_acc: 0.8300\n",
      "Epoch 3/100\n",
      "0s - loss: 0.9211 - acc: 0.7933 - val_loss: 0.6003 - val_acc: 0.8567\n",
      "Epoch 4/100\n",
      "0s - loss: 0.7956 - acc: 0.8292 - val_loss: 0.5267 - val_acc: 0.8700\n",
      "Epoch 5/100\n",
      "0s - loss: 0.7127 - acc: 0.8512 - val_loss: 0.4784 - val_acc: 0.8833\n",
      "Epoch 6/100\n",
      "0s - loss: 0.6236 - acc: 0.8775 - val_loss: 0.4470 - val_acc: 0.8917\n",
      "Epoch 7/100\n",
      "0s - loss: 0.5777 - acc: 0.8829 - val_loss: 0.4245 - val_acc: 0.8900\n",
      "Epoch 8/100\n",
      "0s - loss: 0.5303 - acc: 0.9067 - val_loss: 0.4074 - val_acc: 0.8933\n",
      "Epoch 9/100\n",
      "0s - loss: 0.4769 - acc: 0.9100 - val_loss: 0.3944 - val_acc: 0.9000\n",
      "Epoch 10/100\n",
      "0s - loss: 0.4585 - acc: 0.9146 - val_loss: 0.3804 - val_acc: 0.9033\n",
      "Epoch 11/100\n",
      "0s - loss: 0.4257 - acc: 0.9233 - val_loss: 0.3740 - val_acc: 0.9050\n",
      "Epoch 12/100\n",
      "0s - loss: 0.3949 - acc: 0.9292 - val_loss: 0.3688 - val_acc: 0.9067\n",
      "Epoch 13/100\n",
      "0s - loss: 0.3641 - acc: 0.9358 - val_loss: 0.3625 - val_acc: 0.9050\n",
      "Epoch 14/100\n",
      "0s - loss: 0.3297 - acc: 0.9442 - val_loss: 0.3587 - val_acc: 0.9033\n",
      "Epoch 15/100\n",
      "0s - loss: 0.3176 - acc: 0.9429 - val_loss: 0.3536 - val_acc: 0.9050\n",
      "Epoch 16/100\n",
      "0s - loss: 0.2918 - acc: 0.9542 - val_loss: 0.3469 - val_acc: 0.9017\n",
      "Epoch 17/100\n",
      "0s - loss: 0.2760 - acc: 0.9558 - val_loss: 0.3437 - val_acc: 0.9033\n",
      "Epoch 18/100\n",
      "0s - loss: 0.2627 - acc: 0.9525 - val_loss: 0.3366 - val_acc: 0.9033\n",
      "Epoch 19/100\n",
      "0s - loss: 0.2411 - acc: 0.9608 - val_loss: 0.3389 - val_acc: 0.9067\n",
      "Epoch 20/100\n",
      "0s - loss: 0.2262 - acc: 0.9654 - val_loss: 0.3346 - val_acc: 0.9050\n",
      "Epoch 21/100\n",
      "0s - loss: 0.2118 - acc: 0.9700 - val_loss: 0.3335 - val_acc: 0.9050\n",
      "Epoch 22/100\n",
      "0s - loss: 0.1986 - acc: 0.9733 - val_loss: 0.3260 - val_acc: 0.9083\n",
      "Epoch 23/100\n",
      "0s - loss: 0.1861 - acc: 0.9729 - val_loss: 0.3249 - val_acc: 0.9067\n",
      "Epoch 24/100\n",
      "0s - loss: 0.1866 - acc: 0.9708 - val_loss: 0.3248 - val_acc: 0.9067\n",
      "Epoch 25/100\n",
      "0s - loss: 0.1589 - acc: 0.9758 - val_loss: 0.3239 - val_acc: 0.9050\n",
      "Epoch 26/100\n",
      "0s - loss: 0.1629 - acc: 0.9767 - val_loss: 0.3220 - val_acc: 0.9100\n",
      "Epoch 27/100\n",
      "0s - loss: 0.1526 - acc: 0.9804 - val_loss: 0.3130 - val_acc: 0.9100\n",
      "Epoch 28/100\n",
      "0s - loss: 0.1444 - acc: 0.9808 - val_loss: 0.3159 - val_acc: 0.9133\n",
      "Epoch 29/100\n",
      "0s - loss: 0.1370 - acc: 0.9825 - val_loss: 0.3115 - val_acc: 0.9100\n",
      "Epoch 30/100\n",
      "0s - loss: 0.1188 - acc: 0.9854 - val_loss: 0.3057 - val_acc: 0.9117\n",
      "Epoch 31/100\n",
      "0s - loss: 0.1208 - acc: 0.9825 - val_loss: 0.3092 - val_acc: 0.9133\n",
      "Epoch 32/100\n",
      "0s - loss: 0.1139 - acc: 0.9867 - val_loss: 0.3065 - val_acc: 0.9150\n",
      "Epoch 33/100\n",
      "0s - loss: 0.1158 - acc: 0.9821 - val_loss: 0.3140 - val_acc: 0.9117\n",
      "Epoch 34/100\n",
      "0s - loss: 0.1041 - acc: 0.9858 - val_loss: 0.3103 - val_acc: 0.9133\n",
      "Epoch 35/100\n",
      "0s - loss: 0.0944 - acc: 0.9904 - val_loss: 0.3118 - val_acc: 0.9117\n",
      "Epoch 36/100\n",
      "0s - loss: 0.0889 - acc: 0.9917 - val_loss: 0.3100 - val_acc: 0.9117\n",
      "Epoch 37/100\n",
      "0s - loss: 0.0848 - acc: 0.9912 - val_loss: 0.3112 - val_acc: 0.9117\n",
      "Epoch 38/100\n",
      "1s - loss: 0.0784 - acc: 0.9950 - val_loss: 0.3094 - val_acc: 0.9133\n",
      "Epoch 39/100\n",
      "1s - loss: 0.0770 - acc: 0.9900 - val_loss: 0.3134 - val_acc: 0.9133\n",
      "Epoch 40/100\n",
      "0s - loss: 0.0726 - acc: 0.9929 - val_loss: 0.3079 - val_acc: 0.9150\n",
      "Epoch 41/100\n",
      "0s - loss: 0.0708 - acc: 0.9946 - val_loss: 0.3096 - val_acc: 0.9100\n",
      "Epoch 42/100\n",
      "0s - loss: 0.0661 - acc: 0.9942 - val_loss: 0.3069 - val_acc: 0.9150\n",
      "Epoch 43/100\n",
      "0s - loss: 0.0634 - acc: 0.9942 - val_loss: 0.3113 - val_acc: 0.9117\n",
      "Epoch 44/100\n",
      "0s - loss: 0.0578 - acc: 0.9946 - val_loss: 0.3127 - val_acc: 0.9133\n",
      "Epoch 45/100\n",
      "0s - loss: 0.0602 - acc: 0.9958 - val_loss: 0.3142 - val_acc: 0.9150\n",
      "Epoch 46/100\n",
      "0s - loss: 0.0513 - acc: 0.9954 - val_loss: 0.3140 - val_acc: 0.9133\n",
      "Epoch 47/100\n",
      "0s - loss: 0.0529 - acc: 0.9933 - val_loss: 0.3102 - val_acc: 0.9150\n",
      "Epoch 48/100\n",
      "0s - loss: 0.0528 - acc: 0.9925 - val_loss: 0.3158 - val_acc: 0.9167\n",
      "Epoch 49/100\n",
      "0s - loss: 0.0448 - acc: 0.9971 - val_loss: 0.3112 - val_acc: 0.9200\n",
      "Epoch 50/100\n",
      "0s - loss: 0.0444 - acc: 0.9962 - val_loss: 0.3120 - val_acc: 0.9200\n",
      "Epoch 51/100\n",
      "0s - loss: 0.0425 - acc: 0.9971 - val_loss: 0.3121 - val_acc: 0.9150\n",
      "Epoch 52/100\n",
      "0s - loss: 0.0404 - acc: 0.9975 - val_loss: 0.3148 - val_acc: 0.9167\n",
      "Epoch 53/100\n",
      "0s - loss: 0.0398 - acc: 0.9975 - val_loss: 0.3146 - val_acc: 0.9133\n",
      "Epoch 54/100\n",
      "0s - loss: 0.0392 - acc: 0.9971 - val_loss: 0.3144 - val_acc: 0.9117\n",
      "Epoch 55/100\n",
      "0s - loss: 0.0365 - acc: 0.9967 - val_loss: 0.3203 - val_acc: 0.9167\n",
      "Epoch 56/100\n",
      "0s - loss: 0.0347 - acc: 0.9967 - val_loss: 0.3283 - val_acc: 0.9133\n",
      "Epoch 57/100\n",
      "0s - loss: 0.0330 - acc: 0.9983 - val_loss: 0.3254 - val_acc: 0.9133\n",
      "Epoch 58/100\n",
      "0s - loss: 0.0302 - acc: 0.9983 - val_loss: 0.3212 - val_acc: 0.9183\n",
      "Epoch 59/100\n",
      "0s - loss: 0.0298 - acc: 0.9983 - val_loss: 0.3232 - val_acc: 0.9233\n",
      "Epoch 60/100\n",
      "0s - loss: 0.0311 - acc: 0.9979 - val_loss: 0.3238 - val_acc: 0.9217\n",
      "Epoch 61/100\n",
      "0s - loss: 0.0311 - acc: 0.9971 - val_loss: 0.3294 - val_acc: 0.9217\n",
      "Epoch 62/100\n",
      "0s - loss: 0.0253 - acc: 0.9983 - val_loss: 0.3315 - val_acc: 0.9233\n",
      "Epoch 63/100\n",
      "0s - loss: 0.0275 - acc: 0.9983 - val_loss: 0.3300 - val_acc: 0.9217\n",
      "Epoch 64/100\n",
      "0s - loss: 0.0311 - acc: 0.9962 - val_loss: 0.3371 - val_acc: 0.9133\n",
      "Epoch 65/100\n",
      "0s - loss: 0.0265 - acc: 0.9979 - val_loss: 0.3321 - val_acc: 0.9183\n",
      "Epoch 66/100\n",
      "0s - loss: 0.0249 - acc: 0.9979 - val_loss: 0.3344 - val_acc: 0.9167\n",
      "Epoch 67/100\n",
      "0s - loss: 0.0227 - acc: 0.9983 - val_loss: 0.3348 - val_acc: 0.9150\n",
      "Epoch 68/100\n",
      "0s - loss: 0.0219 - acc: 0.9983 - val_loss: 0.3382 - val_acc: 0.9150\n",
      "Epoch 69/100\n",
      "0s - loss: 0.0234 - acc: 0.9988 - val_loss: 0.3371 - val_acc: 0.9133\n",
      "Epoch 70/100\n",
      "0s - loss: 0.0238 - acc: 0.9967 - val_loss: 0.3277 - val_acc: 0.9183\n",
      "Epoch 71/100\n",
      "0s - loss: 0.0206 - acc: 0.9983 - val_loss: 0.3324 - val_acc: 0.9183\n",
      "Epoch 72/100\n",
      "0s - loss: 0.0187 - acc: 0.9992 - val_loss: 0.3316 - val_acc: 0.9183\n",
      "Epoch 73/100\n",
      "0s - loss: 0.0193 - acc: 0.9992 - val_loss: 0.3338 - val_acc: 0.9183\n",
      "Epoch 74/100\n",
      "0s - loss: 0.0187 - acc: 0.9996 - val_loss: 0.3292 - val_acc: 0.9183\n",
      "Epoch 75/100\n",
      "0s - loss: 0.0179 - acc: 0.9992 - val_loss: 0.3366 - val_acc: 0.9167\n",
      "Epoch 76/100\n",
      "0s - loss: 0.0185 - acc: 0.9987 - val_loss: 0.3333 - val_acc: 0.9200\n",
      "Epoch 77/100\n",
      "0s - loss: 0.0172 - acc: 0.9988 - val_loss: 0.3451 - val_acc: 0.9183\n",
      "Epoch 78/100\n",
      "0s - loss: 0.0189 - acc: 0.9988 - val_loss: 0.3407 - val_acc: 0.9183\n",
      "Epoch 79/100\n",
      "0s - loss: 0.0143 - acc: 1.0000 - val_loss: 0.3421 - val_acc: 0.9183\n",
      "Epoch 80/100\n",
      "0s - loss: 0.0142 - acc: 0.9992 - val_loss: 0.3457 - val_acc: 0.9167\n",
      "Epoch 81/100\n",
      "0s - loss: 0.0160 - acc: 0.9988 - val_loss: 0.3477 - val_acc: 0.9217\n",
      "Epoch 82/100\n",
      "0s - loss: 0.0171 - acc: 0.9975 - val_loss: 0.3505 - val_acc: 0.9233\n",
      "Epoch 83/100\n",
      "0s - loss: 0.0140 - acc: 0.9996 - val_loss: 0.3434 - val_acc: 0.9200\n",
      "Epoch 84/100\n",
      "0s - loss: 0.0138 - acc: 0.9992 - val_loss: 0.3515 - val_acc: 0.9200\n",
      "Epoch 85/100\n",
      "0s - loss: 0.0170 - acc: 0.9975 - val_loss: 0.3504 - val_acc: 0.9167\n",
      "Epoch 86/100\n",
      "0s - loss: 0.0144 - acc: 0.9983 - val_loss: 0.3476 - val_acc: 0.9167\n",
      "Epoch 87/100\n",
      "0s - loss: 0.0143 - acc: 0.9979 - val_loss: 0.3458 - val_acc: 0.9200\n",
      "Epoch 88/100\n",
      "0s - loss: 0.0144 - acc: 0.9979 - val_loss: 0.3466 - val_acc: 0.9200\n",
      "Epoch 89/100\n",
      "0s - loss: 0.0133 - acc: 0.9992 - val_loss: 0.3467 - val_acc: 0.9183\n",
      "Epoch 90/100\n",
      "0s - loss: 0.0146 - acc: 0.9979 - val_loss: 0.3511 - val_acc: 0.9217\n",
      "Epoch 91/100\n",
      "0s - loss: 0.0116 - acc: 0.9996 - val_loss: 0.3553 - val_acc: 0.9200\n",
      "Epoch 92/100\n",
      "0s - loss: 0.0115 - acc: 1.0000 - val_loss: 0.3609 - val_acc: 0.9233\n",
      "Epoch 93/100\n",
      "0s - loss: 0.0117 - acc: 0.9992 - val_loss: 0.3537 - val_acc: 0.9200\n",
      "Epoch 94/100\n",
      "0s - loss: 0.0113 - acc: 0.9996 - val_loss: 0.3528 - val_acc: 0.9200\n",
      "Epoch 95/100\n",
      "0s - loss: 0.0119 - acc: 0.9992 - val_loss: 0.3596 - val_acc: 0.9217\n",
      "Epoch 96/100\n",
      "0s - loss: 0.0111 - acc: 0.9992 - val_loss: 0.3583 - val_acc: 0.9200\n",
      "Epoch 97/100\n",
      "0s - loss: 0.0101 - acc: 0.9996 - val_loss: 0.3620 - val_acc: 0.9200\n",
      "Epoch 98/100\n",
      "0s - loss: 0.0113 - acc: 0.9979 - val_loss: 0.3606 - val_acc: 0.9217\n",
      "Epoch 99/100\n",
      "0s - loss: 0.0098 - acc: 0.9996 - val_loss: 0.3614 - val_acc: 0.9200\n",
      "Epoch 100/100\n",
      "1s - loss: 0.0091 - acc: 0.9992 - val_loss: 0.3608 - val_acc: 0.9183\n"
     ]
    }
   ],
   "source": [
    "tensorboard = keras.callbacks.TensorBoard(\n",
    "    log_dir='/notebooks/tensorflow/path_to_fc_nets/tb/' + name + '/', \n",
    "    write_graph=True,\n",
    "    histogram_freq=1\n",
    ")\n",
    "history = model.fit(X[0:2400], \n",
    "          convertToOneHot(y[0:2400],10), \n",
    "          nb_epoch=100, \n",
    "          batch_size=128, \n",
    "          callbacks=[tensorboard],\n",
    "          validation_data=[X[2400:3000], convertToOneHot(y[2400:3000],10)], verbose=2)\n",
    "\n",
    "# Attention, if you run this in a docker container, setting verbose=1 sometimes kills the whole container \n",
    "# ERRO[0695] error getting events from daemon: EOF\n",
    "\n",
    "# Sometimes also the TensorBoard callback kills the container"
   ]
  }
 ],
 "metadata": {
  "kernelspec": {
   "display_name": "Python 3",
   "language": "python",
   "name": "python3"
  },
  "language_info": {
   "codemirror_mode": {
    "name": "ipython",
    "version": 3
   },
   "file_extension": ".py",
   "mimetype": "text/x-python",
   "name": "python",
   "nbconvert_exporter": "python",
   "pygments_lexer": "ipython3",
   "version": "3.4.3"
  }
 },
 "nbformat": 4,
 "nbformat_minor": 1
}
