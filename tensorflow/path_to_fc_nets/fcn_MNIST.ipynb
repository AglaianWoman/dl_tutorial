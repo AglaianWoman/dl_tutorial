{
 "cells": [
  {
   "cell_type": "markdown",
   "metadata": {},
   "source": [
    "# Multilayer perceptron in TensorFlow (plain vanilla)\n",
    "\n",
    "In this script we build a small multilayer perceptron with two hidden layers having 500 and 50 neurons each for classifying the MNIST database of handwritten digits."
   ]
  },
  {
   "cell_type": "code",
   "execution_count": 1,
   "metadata": {
    "collapsed": false
   },
   "outputs": [
    {
     "name": "stdout",
     "output_type": "stream",
     "text": [
      "((4000, 1, 28, 28), (4000,), 28)\n"
     ]
    },
    {
     "data": {
      "text/plain": [
       "(4000, 784)"
      ]
     },
     "execution_count": 1,
     "metadata": {},
     "output_type": "execute_result"
    }
   ],
   "source": [
    "%matplotlib inline\n",
    "import numpy as np\n",
    "import matplotlib.pyplot as plt\n",
    "import matplotlib.image as imgplot\n",
    "import numpy as np\n",
    "import cPickle as pickle\n",
    "import gzip\n",
    "import time\n",
    "import tensorflow as tf\n",
    "import pandas as pd\n",
    "tf.set_random_seed(1)\n",
    "np.random.seed(1)\n",
    "\n",
    "with gzip.open('../../lasagne/mnist_4000.pkl.gz', 'rb') as f:\n",
    "    (X,y) = pickle.load(f)\n",
    "PIXELS = len(X[0,0,0,:])\n",
    "\n",
    "print(X.shape, y.shape, PIXELS) #As read\n",
    "\n",
    "# We need to reshape for the MLP\n",
    "X = X.reshape([4000, 784])\n",
    "np.shape(X)"
   ]
  },
  {
   "cell_type": "code",
   "execution_count": 2,
   "metadata": {
    "collapsed": true
   },
   "outputs": [],
   "source": [
    "# Taken from http://stackoverflow.com/questions/29831489/numpy-1-hot-array\n",
    "def convertToOneHot(vector, num_classes=None):\n",
    "    result = np.zeros((len(vector), num_classes), dtype='int32')\n",
    "    result[np.arange(len(vector)), vector] = 1\n",
    "    return result"
   ]
  },
  {
   "cell_type": "markdown",
   "metadata": {},
   "source": [
    "## Building the network\n",
    "Build a network with the following architecture.\n",
    "\n",
    "### Definition of the network (architecture)\n",
    "\n",
    "* An Input Layer with the following 2-dimensions: \n",
    "    * 0: Batch Size yet unkown hence `None`\n",
    "    * 1: 784 = 28*28 pixels\n",
    "* A hidden layer with 500 units\n",
    "* A second hidden layer with 50 units\n",
    "* An output layer with 10 units\n",
    "\n",
    "### Hints\n",
    "* The weights can be specified and intitialized as\n",
    "```{python}\n",
    "    w_1 = tf.Variable(tf.random_normal([784, 500]))\n",
    "```\n",
    "* Use ```tf.nn.sigmoid``` activations for the hidden layer"
   ]
  },
  {
   "cell_type": "code",
   "execution_count": 3,
   "metadata": {
    "collapsed": false
   },
   "outputs": [],
   "source": [
    "tf.reset_default_graph()\n",
    "tf.set_random_seed(1)\n",
    "x = tf.placeholder(tf.float32, shape=[None, 784], name='x_data')\n",
    "y_true = tf.placeholder(tf.float32, shape=[None, 10], name='y_data')\n",
    "\n",
    "# From Input to first hidden layer\n",
    "w_1 = tf.Variable(tf.random_normal([784, 500], stddev=0.1))\n",
    "b_1 = tf.Variable(tf.random_normal([500]))\n",
    "h_1_in = tf.add(tf.matmul(x, w_1), b_1)\n",
    "h_1_out = tf.nn.relu(h_1_in)\n",
    "\n",
    "# From first hidden layer to second hidden layer\n",
    "# <--- Your code here --->\n",
    "w_2 = tf.Variable(tf.random_normal([500, 50], stddev=0.1))\n",
    "b_2 = tf.Variable(tf.random_normal([50]))\n",
    "h_2_in = tf.add(tf.matmul(h_1_out, w_2), b_2)\n",
    "h_2_out = tf.nn.relu(h_2_in)\n",
    "# <--- End of your code here --->\n",
    "\n",
    "# From second hidden layer to output\n",
    "w_3 = tf.Variable(tf.random_normal([50, 10], stddev=0.1))\n",
    "b_3 = tf.Variable(tf.random_normal([10]))\n",
    "h_3_in = tf.add(tf.matmul(h_2_out, w_3), b_3)\n",
    "\n",
    "# Output is softmax\n",
    "out = tf.nn.softmax(h_3_in)\n",
    "init_op = tf.global_variables_initializer() "
   ]
  },
  {
   "cell_type": "markdown",
   "metadata": {},
   "source": [
    "### Store the graph and visualize it in tensorflow"
   ]
  },
  {
   "cell_type": "code",
   "execution_count": 4,
   "metadata": {
    "collapsed": false
   },
   "outputs": [],
   "source": [
    "tf.summary.FileWriter(\"/tmp/dumm/mlp_tensorflow_solution/\", tf.get_default_graph()).close() #<--- Where to store"
   ]
  },
  {
   "cell_type": "markdown",
   "metadata": {},
   "source": [
    "### Doing a forward pass of the untrained network\n",
    "Since we fixed the random seed, you should you should get a result like:"
   ]
  },
  {
   "cell_type": "code",
   "execution_count": 5,
   "metadata": {
    "collapsed": false
   },
   "outputs": [
    {
     "data": {
      "text/plain": [
       "array([[  2.89549232e-01,   6.02805465e-02,   5.36485866e-04,\n",
       "          3.27582695e-02,   3.45717650e-04,   2.12644130e-01,\n",
       "          1.91141307e-01,   1.51388312e-03,   1.65578678e-01,\n",
       "          4.56517488e-02],\n",
       "       [  4.15045202e-01,   8.72126669e-02,   2.26489659e-02,\n",
       "          7.13404343e-02,   6.83235144e-03,   5.74614033e-02,\n",
       "          7.40540475e-02,   1.08420523e-02,   2.10118622e-01,\n",
       "          4.44443673e-02]], dtype=float32)"
      ]
     },
     "execution_count": 5,
     "metadata": {},
     "output_type": "execute_result"
    }
   ],
   "source": [
    "with tf.Session() as sess:\n",
    "    sess.run(init_op)\n",
    "    res_val = sess.run(out, feed_dict={x:X[0:2]})\n",
    "res_val"
   ]
  },
  {
   "cell_type": "markdown",
   "metadata": {},
   "source": [
    "### Train the model"
   ]
  },
  {
   "cell_type": "code",
   "execution_count": 6,
   "metadata": {
    "collapsed": false
   },
   "outputs": [
    {
     "name": "stdout",
     "output_type": "stream",
     "text": [
      "0 Training: loss 3.42084741592 acc 0.140625 Validation: loss 3.239569664 acc 0.0966666666667\n",
      "100 Training: loss 0.712276875973 acc 0.78125 Validation: loss 0.806696176529 acc 0.775\n",
      "200 Training: loss 0.401534080505 acc 0.90625 Validation: loss 0.573695719242 acc 0.831666666667\n",
      "300 Training: loss 0.350057572126 acc 0.90625 Validation: loss 0.491815596819 acc 0.846666666667\n",
      "400 Training: loss 0.244123607874 acc 0.9375 Validation: loss 0.470033019781 acc 0.853333333333\n",
      "500 Training: loss 0.222910642624 acc 0.9296875 Validation: loss 0.445216119289 acc 0.861666666667\n",
      "600 Training: loss 0.111224099994 acc 0.9921875 Validation: loss 0.428535908461 acc 0.871666666667\n",
      "700 Training: loss 0.201933711767 acc 0.9609375 Validation: loss 0.427164167166 acc 0.871666666667\n",
      "800 Training: loss 0.19144320488 acc 0.9765625 Validation: loss 0.419657230377 acc 0.88\n",
      "900 Training: loss 0.180035412312 acc 0.953125 Validation: loss 0.417782068253 acc 0.885\n",
      "1000 Training: loss 0.171941012144 acc 0.96875 Validation: loss 0.418062388897 acc 0.885\n",
      "1100 Training: loss 0.140413582325 acc 0.9609375 Validation: loss 0.413518220186 acc 0.886666666667\n",
      "1200 Training: loss 0.126840233803 acc 0.9609375 Validation: loss 0.415325790644 acc 0.883333333333\n",
      "1300 Training: loss 0.136636018753 acc 0.96875 Validation: loss 0.418358445168 acc 0.885\n",
      "1400 Training: loss 0.0612947642803 acc 0.984375 Validation: loss 0.417460411787 acc 0.886666666667\n",
      "1500 Training: loss 0.0731930732727 acc 0.984375 Validation: loss 0.423925042152 acc 0.888333333333\n",
      "1600 Training: loss 0.0519433319569 acc 1.0 Validation: loss 0.422112584114 acc 0.886666666667\n",
      "1700 Training: loss 0.0455843731761 acc 0.9921875 Validation: loss 0.425568372011 acc 0.885\n",
      "1800 Training: loss 0.0727090314031 acc 0.984375 Validation: loss 0.42444190383 acc 0.886666666667\n",
      "1900 Training: loss 0.070628926158 acc 0.9921875 Validation: loss 0.42544695735 acc 0.891666666667\n",
      "2000 Training: loss 0.0358059369028 acc 1.0 Validation: loss 0.427072435617 acc 0.89\n",
      "2100 Training: loss 0.0393395759165 acc 0.9921875 Validation: loss 0.432399183512 acc 0.893333333333\n",
      "2200 Training: loss 0.0435304716229 acc 0.9921875 Validation: loss 0.434222877026 acc 0.891666666667\n",
      "2300 Training: loss 0.0505081489682 acc 0.9921875 Validation: loss 0.433673590422 acc 0.891666666667\n",
      "2400 Training: loss 0.036528930068 acc 1.0 Validation: loss 0.437502503395 acc 0.895\n",
      "2500 Training: loss 0.0238585546613 acc 1.0 Validation: loss 0.441679894924 acc 0.896666666667\n",
      "2600 Training: loss 0.0241395961493 acc 1.0 Validation: loss 0.441343992949 acc 0.893333333333\n",
      "2700 Training: loss 0.0201059672982 acc 1.0 Validation: loss 0.442777961493 acc 0.891666666667\n",
      "2800 Training: loss 0.0213995464146 acc 1.0 Validation: loss 0.443085432053 acc 0.893333333333\n",
      "2900 Training: loss 0.0225355066359 acc 1.0 Validation: loss 0.444786280394 acc 0.893333333333\n",
      "3000 Training: loss 0.0212941709906 acc 1.0 Validation: loss 0.448637187481 acc 0.896666666667\n",
      "3100 Training: loss 0.0123928943649 acc 1.0 Validation: loss 0.451801806688 acc 0.893333333333\n",
      "3200 Training: loss 0.0139590296894 acc 1.0 Validation: loss 0.453004926443 acc 0.891666666667\n",
      "3300 Training: loss 0.0153193511069 acc 1.0 Validation: loss 0.454390048981 acc 0.893333333333\n",
      "3400 Training: loss 0.0161477290094 acc 1.0 Validation: loss 0.456778526306 acc 0.893333333333\n",
      "3500 Training: loss 0.0117578953505 acc 1.0 Validation: loss 0.458992809057 acc 0.891666666667\n",
      "3600 Training: loss 0.0209932923317 acc 1.0 Validation: loss 0.4605255723 acc 0.893333333333\n",
      "3700 Training: loss 0.0138144446537 acc 1.0 Validation: loss 0.461429953575 acc 0.895\n",
      "3800 Training: loss 0.0125787481666 acc 1.0 Validation: loss 0.460962533951 acc 0.891666666667\n",
      "3900 Training: loss 0.00916315615177 acc 1.0 Validation: loss 0.464281708002 acc 0.891666666667\n"
     ]
    }
   ],
   "source": [
    "loss = tf.reduce_mean(-tf.reduce_sum(y_true * tf.log(out), reduction_indices=[1]))\n",
    "# <---- Your code here (fix the optimzer)\n",
    "train_op = tf.train.GradientDescentOptimizer(0.01).minimize(loss)\n",
    "init_op = tf.global_variables_initializer() \n",
    "vals = []\n",
    "with tf.Session() as sess:\n",
    "    sess.run(init_op)\n",
    "    for i in range(4000):\n",
    "        idx = np.random.permutation(2400)[0:128] #Easy minibatch of size 128\n",
    "        loss_, _, res_ = sess.run((loss, train_op,out), feed_dict={x:X[idx], y_true:convertToOneHot(y[idx], 10)})\n",
    "        if (i % 100 == 0):\n",
    "            # Get the results for the validation results (from 2400:3000)\n",
    "            # <---------   Your code here -----------------\n",
    "            acc = np.average(np.argmax(res_, axis = 1) == y[idx])\n",
    "            loss_v, res_val = sess.run([loss, out], feed_dict={x:X[2400:3000], y_true:convertToOneHot(y[2400:3000], 10)})\n",
    "            acc_v = np.average(np.argmax(res_val, axis = 1) == y[2400:3000])\n",
    "            # <---------  End of your code here\n",
    "            vals.append([loss_, acc, loss_v, acc_v])\n",
    "            print(\"{} Training: loss {} acc {} Validation: loss {} acc {}\".format(i, loss_, acc, loss_v, acc_v))"
   ]
  },
  {
   "cell_type": "code",
   "execution_count": 7,
   "metadata": {
    "collapsed": false
   },
   "outputs": [
    {
     "data": {
      "text/plain": [
       "<matplotlib.axes.AxesSubplot at 0x1062ea490>"
      ]
     },
     "execution_count": 7,
     "metadata": {},
     "output_type": "execute_result"
    },
    {
     "data": {
      "image/png": "[encoded data removed]",
      "text/plain": [
       "<matplotlib.figure.Figure at 0x1102e2050>"
      ]
     },
     "metadata": {},
     "output_type": "display_data"
    }
   ],
   "source": [
    "vals_df = pd.DataFrame(vals)\n",
    "vals_df.columns = ['tr_loss', 'tr_acc', 'val_loss', 'val_acc']\n",
    "vals_df['epochs'] = (np.asarray(range(len(vals_df))) * 100.0 * 128. / 2400)\n",
    "vals_df.plot(ylim = (0,1.05), x='epochs')"
   ]
  },
  {
   "cell_type": "code",
   "execution_count": null,
   "metadata": {
    "collapsed": true
   },
   "outputs": [],
   "source": []
  }
 ],
 "metadata": {
  "kernelspec": {
   "display_name": "Python 2",
   "language": "python",
   "name": "python2"
  },
  "language_info": {
   "codemirror_mode": {
    "name": "ipython",
    "version": 2
   },
   "file_extension": ".py",
   "mimetype": "text/x-python",
   "name": "python",
   "nbconvert_exporter": "python",
   "pygments_lexer": "ipython2",
   "version": "2.7.10"
  }
 },
 "nbformat": 4,
 "nbformat_minor": 0
}
