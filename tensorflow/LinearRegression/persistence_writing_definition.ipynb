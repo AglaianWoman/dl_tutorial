{
 "cells": [
  {
   "cell_type": "markdown",
   "metadata": {},
   "source": [
    "### TODO This notebook is under construction, not ready yet"
   ]
  },
  {
   "cell_type": "code",
   "execution_count": 1,
   "metadata": {
    "collapsed": true
   },
   "outputs": [],
   "source": [
    "import tensorflow as tf\n",
    "import numpy as np\n",
    "import matplotlib.pyplot as plt\n",
    "%matplotlib inline\n",
    "N = 30\n",
    "x_data = (np.linspace(0,10,N)).astype('float32')\n",
    "y_data = (2.42 * x_data + 0.42 + np.random.normal(0,1,N)).astype('float32')"
   ]
  },
  {
   "cell_type": "markdown",
   "metadata": {},
   "source": [
    "## Writing the definition file\n",
    "\n",
    "When using checkpointing, one is able to write out a the weights of the graph and **not** the definition of the graph. "
   ]
  },
  {
   "cell_type": "code",
   "execution_count": 2,
   "metadata": {
    "collapsed": false
   },
   "outputs": [],
   "source": [
    "a = tf.Variable(1.0, name = 'a') #Note that 1.0 is needed\n",
    "b = tf.Variable(0.01, name = 'b')\n",
    "x = tf.placeholder('float32', [N], name='x_data')\n",
    "y = tf.placeholder('float32', [N], name='y_data')\n",
    "\n",
    "\n",
    "resi = a*x + b - y\n",
    "loss = tf.reduce_sum(tf.square(resi), name='loss') \n",
    "init_op = tf.initialize_all_variables() #Initialization op \n",
    "train_op = tf.train.GradientDescentOptimizer(0.0001).minimize(loss)"
   ]
  },
  {
   "cell_type": "code",
   "execution_count": null,
   "metadata": {
    "collapsed": true
   },
   "outputs": [],
   "source": []
  },
  {
   "cell_type": "code",
   "execution_count": null,
   "metadata": {
    "collapsed": false,
    "scrolled": true
   },
   "outputs": [],
   "source": [
    "epochs = 1000\n",
    "saver = tf.train.Saver()\n",
    "with tf.Session() as sess:\n",
    "    sess.run(init_op)\n",
    "    for e in range(5): \n",
    "        sess.run(train_op, feed_dict={x:x_data, y:y_data})\n",
    "    res = sess.run([loss, a, b], feed_dict={x:x_data, y:y_data})\n",
    "    print(res)\n",
    "    save_path = saver.save(sess, \"checkpoints/model.ckpt\")\n",
    "    print(\"Model saved in file: %s\" % save_path)\n",
    "!ls -l checkpoints"
   ]
  },
  {
   "cell_type": "code",
   "execution_count": null,
   "metadata": {
    "collapsed": false
   },
   "outputs": [],
   "source": [
    "saver = tf.train.Saver()\n",
    "with tf.Session() as sess:\n",
    "    saver.restore(sess, \"checkpoints/model.ckpt\")\n",
    "    res = sess.run([loss, a, b], feed_dict={x:x_data, y:y_data})\n",
    "    print(res)"
   ]
  },
  {
   "cell_type": "markdown",
   "metadata": {},
   "source": [
    "## Saving and loading the graph (a bit more advanced and still not working)\n",
    "We now want to save the graph (i.e. the structure and not the weights). The graphs are store into so-called protobuffers, which can be written as text.\n",
    "\n",
    "\n",
    "The current graph we are using is the default graph. Let's get the definition:"
   ]
  },
  {
   "cell_type": "code",
   "execution_count": null,
   "metadata": {
    "collapsed": false
   },
   "outputs": [],
   "source": [
    "definition = tf.get_default_graph().as_graph_def()\n",
    "type(definition)"
   ]
  },
  {
   "cell_type": "code",
   "execution_count": null,
   "metadata": {
    "collapsed": false
   },
   "outputs": [],
   "source": [
    "tf.train.write_graph(definition, \"graphdef/\", 'test.pb', as_text=True)\n",
    "%ls -rtl graphdef\n",
    "definition.ByteSize()"
   ]
  },
  {
   "cell_type": "code",
   "execution_count": null,
   "metadata": {
    "collapsed": false
   },
   "outputs": [],
   "source": [
    "tf.reset_default_graph() # Clearing the default graph\n",
    "#saver = tf.train.Saver() # Not working since the graph is empty"
   ]
  },
  {
   "cell_type": "code",
   "execution_count": null,
   "metadata": {
    "collapsed": false
   },
   "outputs": [],
   "source": [
    "from google.protobuf import text_format\n",
    "\n",
    "# Loading the graph definition\n",
    "graph_def = tf.GraphDef() \n",
    "with open('graphdef/test.pb', \"rb\") as f:\n",
    "    text_format.Merge(f.read(), graph_def)\n",
    "    # Setting the graph definition \n",
    "print(graph_def.ByteSize())\n",
    "with tf.Session() as sess:\n",
    "    sess.graph.as_default()\n",
    "    tf.import_graph_def(graph_def, name='')\n",
    "    sess.run(init_op)\n",
    "    print(tf.all_variables())\n",
    "    print(sess.graph.get_all_collection_keys())\n",
    "    saver = tf.train.Saver()\n",
    "    saver.restore(sess, \"checkpoints/model.ckpt\")\n",
    "    res = sess.run([loss, a, b], feed_dict={x:x_data, y:y_data})\n",
    "    print(res)"
   ]
  },
  {
   "cell_type": "markdown",
   "metadata": {},
   "source": [
    "### Freezing the graph\n",
    "\n",
    "Here we want to write out the graph and the weights, with is quite convenient if you e.g. want to deploy for model e.g. on a Android Device. We have to **transfer the variables to constants with the same value** in that case, since for variables it is stated that \" they're held in separate checkpoint files, and there are Variable ops in the graph that load the latest values when they're initialized\". See [https://www.tensorflow.org/versions/r0.7/how_tos/tool_developers/index.html#freezing](freezing)\n",
    "\n",
    "\n",
    "For freezing a graph, we have to have an intialized graph\n"
   ]
  },
  {
   "cell_type": "code",
   "execution_count": null,
   "metadata": {
    "collapsed": false
   },
   "outputs": [],
   "source": [
    "from tensorflow.python.client import graph_util\n",
    "with tf.Session() as sess:\n",
    "    \n",
    "    output_graph_def = graph_util.convert_variables_to_constants(sess, tf.get_default_graph().as_graph_def(), ['loss', 'y'])\n",
    "    print('Finished all')"
   ]
  },
  {
   "cell_type": "code",
   "execution_count": null,
   "metadata": {
    "collapsed": false
   },
   "outputs": [],
   "source": [
    "type(['Hallo'])"
   ]
  },
  {
   "cell_type": "code",
   "execution_count": null,
   "metadata": {
    "collapsed": true
   },
   "outputs": [],
   "source": []
  }
 ],
 "metadata": {
  "kernelspec": {
   "display_name": "Python 2",
   "language": "python",
   "name": "python2"
  },
  "language_info": {
   "codemirror_mode": {
    "name": "ipython",
    "version": 2
   },
   "file_extension": ".py",
   "mimetype": "text/x-python",
   "name": "python",
   "nbconvert_exporter": "python",
   "pygments_lexer": "ipython2",
   "version": "2.7.6"
  }
 },
 "nbformat": 4,
 "nbformat_minor": 0
}
