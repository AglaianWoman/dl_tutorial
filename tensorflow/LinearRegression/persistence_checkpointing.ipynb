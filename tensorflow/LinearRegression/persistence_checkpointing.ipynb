{
 "cells": [
  {
   "cell_type": "code",
   "execution_count": 3,
   "metadata": {
    "collapsed": true
   },
   "outputs": [],
   "source": [
    "import tensorflow as tf\n",
    "import numpy as np\n",
    "import matplotlib.pyplot as plt\n",
    "%matplotlib inline\n",
    "N = 30\n",
    "x_data = (np.linspace(0,10,N)).astype('float32')\n",
    "y_data = (2.42 * x_data + 0.42 + np.random.normal(0,1,N)).astype('float32')"
   ]
  },
  {
   "cell_type": "markdown",
   "metadata": {},
   "source": [
    "## Checkpointing a model\n",
    "\n",
    "When using checkpointing, one is able to write out a the weights of the graph and **not** the definition of the graph. "
   ]
  },
  {
   "cell_type": "code",
   "execution_count": 4,
   "metadata": {
    "collapsed": false
   },
   "outputs": [],
   "source": [
    "a = tf.Variable(1.0, name = 'a') #Note that 1.0 is needed\n",
    "b = tf.Variable(0.01, name = 'b')\n",
    "x = tf.placeholder('float32', [N], name='x_data')\n",
    "y = tf.placeholder('float32', [N], name='y_data')\n",
    "\n",
    "\n",
    "resi = a*x + b - y\n",
    "loss = tf.reduce_sum(tf.square(resi), name='loss') \n",
    "init_op = tf.initialize_all_variables() #Initialization op \n",
    "train_op = tf.train.GradientDescentOptimizer(0.0001).minimize(loss)"
   ]
  },
  {
   "cell_type": "code",
   "execution_count": 5,
   "metadata": {
    "collapsed": false,
    "scrolled": true
   },
   "outputs": [
    {
     "name": "stdout",
     "output_type": "stream",
     "text": [
      "[281.54013, 2.0242732, 0.17000385]\n",
      "Model saved in file: checkpoints/model.ckpt\n",
      "total 28\r\n",
      "-rw-rw-r-- 1 dueo dueo    77 May  3 14:10 checkpoint\r\n",
      "-rw-rw-r-- 1 dueo dueo   246 May  3 14:10 model.ckpt\r\n",
      "-rw-rw-r-- 1 dueo dueo 18962 May  3 14:10 model.ckpt.meta\r\n"
     ]
    }
   ],
   "source": [
    "epochs = 1000\n",
    "saver = tf.train.Saver()\n",
    "with tf.Session() as sess:\n",
    "    sess.run(init_op)\n",
    "    for e in range(5): \n",
    "        sess.run(train_op, feed_dict={x:x_data, y:y_data})\n",
    "    res = sess.run([loss, a, b], feed_dict={x:x_data, y:y_data})\n",
    "    print(res)\n",
    "    save_path = saver.save(sess, \"checkpoints/model.ckpt\")\n",
    "    print(\"Model saved in file: %s\" % save_path)\n",
    "!ls -l checkpoints"
   ]
  },
  {
   "cell_type": "code",
   "execution_count": 6,
   "metadata": {
    "collapsed": false
   },
   "outputs": [
    {
     "name": "stdout",
     "output_type": "stream",
     "text": [
      "[281.54013, 2.0242732, 0.17000385]\n"
     ]
    }
   ],
   "source": [
    "saver = tf.train.Saver()\n",
    "with tf.Session() as sess:\n",
    "    saver.restore(sess, \"checkpoints/model.ckpt\")\n",
    "    res = sess.run([loss, a, b], feed_dict={x:x_data, y:y_data})\n",
    "    print(res)"
   ]
  }
 ],
 "metadata": {
  "kernelspec": {
   "display_name": "Python 2",
   "language": "python",
   "name": "python2"
  },
  "language_info": {
   "codemirror_mode": {
    "name": "ipython",
    "version": 2
   },
   "file_extension": ".py",
   "mimetype": "text/x-python",
   "name": "python",
   "nbconvert_exporter": "python",
   "pygments_lexer": "ipython2",
   "version": "2.7.6"
  }
 },
 "nbformat": 4,
 "nbformat_minor": 0
}
