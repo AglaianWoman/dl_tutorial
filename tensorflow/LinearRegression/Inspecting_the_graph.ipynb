{
 "cells": [
  {
   "cell_type": "markdown",
   "metadata": {},
   "source": [
    "##### Note on running the notebook\n",
    "\n",
    "What is currently a bit strange, is that this code only works once. If you want to let this notebook run for the second time, you seem to have to restart the notebook (Kernel->restart). This is not the case if you put all the code into a python file. \n",
    "\n",
    "\n",
    "### Looking in the detail of how TensorFlow opimizes the problem\n",
    "The computation of \n",
    "$$\n",
    "    y = a x + b \n",
    "$$\n",
    "\n",
    "is encoded in the follwong TensorFlow graph, which reads in x_data and y_data and does some processing. The nodes of the graph, are operations called *ops*. For the documemation: \"An op\n",
    "takes zero or more `Tensors`, performs some computation, and produces zero or\n",
    "more `Tensors`.  A `Tensor` is a typed multi-dimensional array.\" In our example, the Tensor `x_data` is a simple vector of size N.\n",
    "\n",
    "\n",
    "In this notebook we investigate, who to write such a graph and also include additional information, while the graph is processed.\n",
    "![graph.png, width=140](graph.png)"
   ]
  },
  {
   "cell_type": "code",
   "execution_count": 1,
   "metadata": {
    "collapsed": true
   },
   "outputs": [],
   "source": [
    "# Creating the data\n",
    "import tensorflow as tf\n",
    "import numpy as np\n",
    "import matplotlib.pyplot as plt\n",
    "%matplotlib inline\n",
    "N = 30\n",
    "x_data = (np.linspace(0,10,N)).astype('float32')\n",
    "y_data = (2.42 * x_data + 0.42 + np.random.normal(0,1,N)).astype('float32')"
   ]
  },
  {
   "cell_type": "code",
   "execution_count": 2,
   "metadata": {
    "collapsed": false
   },
   "outputs": [
    {
     "name": "stdout",
     "output_type": "stream",
     "text": [
      "epoch 992 26.6808223724\n",
      "epoch 993 26.6804332733\n",
      "epoch 994 26.6800498962\n",
      "epoch 995 26.6796646118\n",
      "epoch 996 26.6792755127\n",
      "epoch 998 26.6785106659\n",
      "[26.678135, 2.3533804, 0.68155742]\n",
      "Finished all\n"
     ]
    }
   ],
   "source": [
    "a = tf.Variable(1.0, name = 'a') #Note that 1.0 is needed\n",
    "b = tf.Variable(0.01, name = 'b')\n",
    "x = tf.placeholder('float32', [N], name='x_data')\n",
    "y = tf.placeholder('float32', [N], name='y_data')\n",
    "\n",
    "\n",
    "resi = a*x + b - y\n",
    "loss = tf.reduce_sum(tf.square(resi))\n",
    "init_op = tf.initialize_all_variables() #Initialization\n",
    "\n",
    "train_op = tf.train.GradientDescentOptimizer(0.0001).minimize(loss)\n",
    "epochs = 1000\n",
    "\n",
    "tf.name_scope(\"fitting\")\n",
    "loss_summary = tf.scalar_summary(\"loss_summary\", loss) #<---\n",
    "resi_summart = tf.histogram_summary(\"resi_summart\", resi)\n",
    "merged_summary_op = tf.merge_all_summaries()   #<-----  before the session\n",
    "with tf.Session() as sess:\n",
    "    sess.run(init_op)\n",
    "    writer = tf.train.SummaryWriter(\"/tmp/dumm\", sess.graph_def, 'graph.pbtxt')\n",
    "    for e in range(epochs): #Fitting the data for 10 epochs\n",
    "        sess.run(train_op, feed_dict={x:x_data, y:y_data})\n",
    "        if (e < 5 | e > epochs - 5):\n",
    "            print(\"epoch {} {}\".format(e, sess.run(loss, feed_dict={x:x_data, y:y_data})))\n",
    "        sum_str = sess.run(merged_summary_op, feed_dict={x:x_data, y:y_data})\n",
    "        writer.add_summary(sum_str, e)\n",
    "    res = sess.run([loss, a, b], feed_dict={x:x_data, y:y_data})\n",
    "    print(res)\n",
    "print('Finished all')"
   ]
  },
  {
   "cell_type": "markdown",
   "metadata": {
    "collapsed": true
   },
   "source": [
    "The graph is created and can be visualized using:\n",
    "```\n",
    "    tensorboard --logDir /tmp/dumm\n",
    "```\n",
    "and explored using the browser with the URL: http://0.0.0.0:6006"
   ]
  },
  {
   "cell_type": "code",
   "execution_count": null,
   "metadata": {
    "collapsed": true
   },
   "outputs": [],
   "source": []
  }
 ],
 "metadata": {
  "kernelspec": {
   "display_name": "Python 2",
   "language": "python",
   "name": "python2"
  },
  "language_info": {
   "codemirror_mode": {
    "name": "ipython",
    "version": 2
   },
   "file_extension": ".py",
   "mimetype": "text/x-python",
   "name": "python",
   "nbconvert_exporter": "python",
   "pygments_lexer": "ipython2",
   "version": "2.7.10"
  }
 },
 "nbformat": 4,
 "nbformat_minor": 0
}
