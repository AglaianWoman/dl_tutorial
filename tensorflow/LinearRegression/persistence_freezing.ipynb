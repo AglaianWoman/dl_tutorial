{
 "cells": [
  {
   "cell_type": "code",
   "execution_count": 1,
   "metadata": {
    "collapsed": true
   },
   "outputs": [],
   "source": [
    "import tensorflow as tf\n",
    "import numpy as np\n",
    "N = 30\n",
    "x_data = (np.linspace(0,10,N)).astype('float32')\n",
    "y_data = (2.42 * x_data + 0.42 + np.random.normal(0,1,N)).astype('float32')"
   ]
  },
  {
   "cell_type": "markdown",
   "metadata": {},
   "source": [
    "## Freezing a graph\n",
    "\n",
    "Freezing a graph creates frozen version of the graph. Note that this is not trainable anymore, it's frozen. "
   ]
  },
  {
   "cell_type": "code",
   "execution_count": 2,
   "metadata": {
    "collapsed": false
   },
   "outputs": [],
   "source": [
    "a = tf.Variable(1.0, name = 'a') #Note that 1.0 is needed\n",
    "b = tf.Variable(0.01, name = 'b')\n",
    "x = tf.placeholder('float32', [N], name='x_data')\n",
    "y = tf.placeholder('float32', [N], name='y_data')\n",
    "\n",
    "\n",
    "resi = a*x + b - y\n",
    "loss = tf.reduce_sum(tf.square(resi), name='loss') # <-- We have to give it a name to access it later\n",
    "init_op = tf.initialize_all_variables() #Initialization op \n",
    "train_op = tf.train.GradientDescentOptimizer(0.0001).minimize(loss)"
   ]
  },
  {
   "cell_type": "markdown",
   "metadata": {},
   "source": [
    "### Freezing the graph\n",
    "\n",
    "Here we want to write out the graph and the weights, with is quite convenient if you e.g. want to deploy for model e.g. on a Android Device. We have to **transfer the variables to constants with the same value** in that case, since for variables it is stated that \" they're held in separate checkpoint files, and there are Variable ops in the graph that load the latest values when they're initialized\". See [https://www.tensorflow.org/versions/r0.7/how_tos/tool_developers/index.html#freezing](freezing)\n",
    "\n",
    "\n",
    "For freezing a graph, we have to have an intialized graph and names for the output variables."
   ]
  },
  {
   "cell_type": "code",
   "execution_count": 3,
   "metadata": {
    "collapsed": false,
    "scrolled": true
   },
   "outputs": [
    {
     "name": "stdout",
     "output_type": "stream",
     "text": [
      "Converted 2 variables to const ops.\n",
      "15 ops in the final graph.\n"
     ]
    }
   ],
   "source": [
    "with tf.Session() as sess:\n",
    "    sess.run(init_op)\n",
    "    for e in range(5): \n",
    "        sess.run(train_op, feed_dict={x:x_data, y:y_data})\n",
    "    res = sess.run([loss, a, b], feed_dict={x:x_data, y:y_data})\n",
    "    from tensorflow.python.client import graph_util\n",
    "    output_graph_def = graph_util.convert_variables_to_constants(sess, tf.get_default_graph().as_graph_def(), ['loss', 'y_data'])\n",
    "    with tf.gfile.GFile('graphdef/linear_regression.pb', \"wb\") as f:\n",
    "        f.write(output_graph_def.SerializeToString())\n",
    "    print(\"%d ops in the final graph.\" % len(output_graph_def.node))\n",
    "\n",
    "    "
   ]
  },
  {
   "cell_type": "markdown",
   "metadata": {
    "collapsed": false
   },
   "source": [
    "### Loading a frozen graph\n",
    "\n"
   ]
  },
  {
   "cell_type": "code",
   "execution_count": 4,
   "metadata": {
    "collapsed": false
   },
   "outputs": [
    {
     "name": "stdout",
     "output_type": "stream",
     "text": [
      "690\n",
      "Loss 21.2707443237\n"
     ]
    }
   ],
   "source": [
    "import tensorflow as tf\n",
    "import numpy as np\n",
    "tf.reset_default_graph() #Fresh graph, simulates a restart of the kernel \n",
    "with tf.gfile.FastGFile('/home/dueo/workspace/dl_tutorial/tensorflow/LinearRegression/graphdef/linear_regression.pb', 'rb') as f:\n",
    "    graph_def = tf.GraphDef()\n",
    "    graph_def.ParseFromString(f.read())\n",
    "    _ = tf.import_graph_def(graph_def, name='')\n",
    "    print(graph_def.ByteSize())\n",
    "    #print(graph_def)\n",
    "    with tf.Session() as sess:\n",
    "        loss = sess.graph.get_tensor_by_name('loss:0')\n",
    "        x_data = np.zeros((30), dtype='float32')\n",
    "        y_data = np.ones((30), dtype='float32')\n",
    "        res = sess.run(loss, feed_dict={'x_data:0':x_data, 'y_data:0':y_data})\n",
    "        print(\"Loss {}\".format(res))\n",
    "    "
   ]
  },
  {
   "cell_type": "code",
   "execution_count": null,
   "metadata": {
    "collapsed": true
   },
   "outputs": [],
   "source": []
  }
 ],
 "metadata": {
  "kernelspec": {
   "display_name": "Python 2",
   "language": "python",
   "name": "python2"
  },
  "language_info": {
   "codemirror_mode": {
    "name": "ipython",
    "version": 2
   },
   "file_extension": ".py",
   "mimetype": "text/x-python",
   "name": "python",
   "nbconvert_exporter": "python",
   "pygments_lexer": "ipython2",
   "version": "2.7.6"
  }
 },
 "nbformat": 4,
 "nbformat_minor": 0
}
