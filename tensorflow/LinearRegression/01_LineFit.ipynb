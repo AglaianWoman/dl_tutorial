{
 "cells": [
  {
   "cell_type": "markdown",
   "metadata": {},
   "source": [
    "### Using tensor flow to fit a straight line\n",
    "\n",
    "We now (mis-)use tensorflow to create something simple as fitting a straight line."
   ]
  },
  {
   "cell_type": "code",
   "execution_count": 1,
   "metadata": {
    "collapsed": true
   },
   "outputs": [],
   "source": [
    "import tensorflow as tf\n",
    "import numpy as np\n",
    "import matplotlib.pyplot as plt\n",
    "%matplotlib inline"
   ]
  },
  {
   "cell_type": "markdown",
   "metadata": {},
   "source": [
    "### Creating some data"
   ]
  },
  {
   "cell_type": "code",
   "execution_count": 2,
   "metadata": {
    "collapsed": false
   },
   "outputs": [],
   "source": [
    "N = 30\n",
    "x_data = (np.linspace(0,10,N)).astype('float32')\n",
    "y_data = (2.42 * x_data + 0.42 + np.random.normal(0,1,N)).astype('float32')"
   ]
  },
  {
   "cell_type": "code",
   "execution_count": 3,
   "metadata": {
    "collapsed": false
   },
   "outputs": [
    {
     "data": {
      "text/plain": [
       "(30,)"
      ]
     },
     "execution_count": 3,
     "metadata": {},
     "output_type": "execute_result"
    },
    {
     "data": {
      "image/png": "[encoded data removed]",
      "text/plain": [
       "<matplotlib.figure.Figure at 0x1087775d0>"
      ]
     },
     "metadata": {},
     "output_type": "display_data"
    }
   ],
   "source": [
    "plt.scatter(x_data,y_data)\n",
    "np.shape(x_data)"
   ]
  },
  {
   "cell_type": "markdown",
   "metadata": {},
   "source": [
    "### Building the TensorFlow Graph\n",
    "\n",
    "We are now defining the model for TensorFlow, for finding the optimal values we need to minimize the residual sum of squares: The sum of the quadratic deviation of the data $y_i$ to the model $\\hat{y}_i = a \\cdot x_i + b$ for all $N$ data points $i$\n",
    "\n",
    "$$\n",
    "    \\sum_{i=1}^N(y_i - a*x_i+b)^2\n",
    "$$\n",
    "\n",
    "As a first step we write a TensorFlow-graph, with which we can calculate this residual sum. What do we need?\n",
    "\n",
    "* 2 variables (a,b) `tf.Variable` with the start values e.g. 1.0, 0.01\n",
    "* 2 data vectors, or in TensorFlow parlance one dimensional tensors in which we can feed the data\n",
    "\n",
    "You might ask, why we do the differentiation between variables and place_holders. Variables reflect the parameters of state of the model, while placeholders the data we feed in. Later, for more complex models, we won't feed in all data at once but random batches (minibatches) of the complete data."
   ]
  },
  {
   "cell_type": "code",
   "execution_count": 4,
   "metadata": {
    "collapsed": false
   },
   "outputs": [
    {
     "name": "stdout",
     "output_type": "stream",
     "text": [
      "Loss 344.514953613 (a=3.0, b=0.42)\n"
     ]
    }
   ],
   "source": [
    "# Defining the graph (construction phase)\n",
    "a = tf.Variable(1.0, name = 'a') #Note that 1.0 is needed\n",
    "b = tf.Variable(0.01, name = 'b')\n",
    "x = tf.placeholder('float32', [N], name='x_data')\n",
    "y = tf.placeholder('float32', [N], name='y_data')\n",
    "loss = tf.reduce_sum(tf.square(a*x + b - y)) #Sum is called reduce_sum \n",
    "\n",
    "init_op = tf.initialize_all_variables() #Initialization ('symbolic')\n",
    "\n",
    "# Working with a concrete realization (launching a graph). \n",
    "# A session sess is created  with the with construct \n",
    "# the session is closed, when moving out of the with class\n",
    "with tf.Session() as sess: \n",
    "    sess.run(init_op) #Doing the initialization on the concrete realization of the graph\n",
    "    res = sess.run(loss, feed_dict={x:x_data, y:y_data, a:3.0, b:0.42})\n",
    "    print(\"Loss {} (a=3.0, b=0.42)\".format(res))"
   ]
  },
  {
   "cell_type": "markdown",
   "metadata": {},
   "source": [
    "### Optimizing the variables a and b\n",
    "\n",
    "We now let TensorFlow find the optimal (lowest loss) values of a, b. We do this with a `GradientDescentOptimizer`, which does a steepest descent with a given learning rate. The opimizes is given the loss to minimize and it builds the necessary gradients (using at the graph) for doing the gradient descent itself."
   ]
  },
  {
   "cell_type": "code",
   "execution_count": 5,
   "metadata": {
    "collapsed": false
   },
   "outputs": [
    {
     "name": "stdout",
     "output_type": "stream",
     "text": [
      "Epoch0 Loss 2296.54980469 (a=1.30410981178, b=0.056304179132)\n",
      "Epoch1 Loss 1448.64746094 (a=1.54495990276, b=0.0932072401047)\n",
      "Epoch2 Loss 916.657714844 (a=1.73570239544, b=0.122663378716)\n",
      "Epoch3 Loss 582.875671387 (a=1.88675498962, b=0.146220505238)\n",
      "Epoch4 Loss 373.451965332 (a=2.00636935234, b=0.165104717016)\n",
      "Epoch196 Loss 19.0639801025 (a=2.43587446213, b=0.413452327251)\n",
      "Epoch197 Loss 19.0573062897 (a=2.43575453758, b=0.414259552956)\n",
      "Epoch198 Loss 19.0506477356 (a=2.43563485146, b=0.415065526962)\n",
      "Epoch199 Loss 19.0440216064 (a=2.43551516533, b=0.415870279074)\n"
     ]
    }
   ],
   "source": [
    "train_op = tf.train.GradientDescentOptimizer(0.0001).minimize(loss)\n",
    "# Other optimizers \n",
    "#train_op = tf.train.AdamOptimizer().minimize(loss) \n",
    "#train_op = tf.train.MomentumOptimizer(0.0001, 0.9).minimize(loss)\n",
    "\n",
    "epochs = 200\n",
    "results = np.zeros((epochs, 4))\n",
    "init_op = tf.initialize_all_variables() #Initialization\n",
    "with tf.Session() as sess:\n",
    "    sess.run(init_op) #Running the initialization\n",
    "    for e in range(epochs): #Fitting the data for some epochs\n",
    "        res = sess.run([train_op, loss, a, b], feed_dict={x:x_data, y:y_data})  \n",
    "        results[e] = res\n",
    "        if ((e < 5) | (e > epochs-5)):\n",
    "            print(\"Epoch{} Loss {} (a={}, b={})\".format(e,res[1],res[2],res[3]))\n",
    "    res = sess.run([loss, a, b], feed_dict={x:x_data, y:y_data})"
   ]
  },
  {
   "cell_type": "markdown",
   "metadata": {},
   "source": [
    "### Inspection of the results\n",
    "Learning curve and fit."
   ]
  },
  {
   "cell_type": "code",
   "execution_count": 6,
   "metadata": {
    "collapsed": false
   },
   "outputs": [
    {
     "data": {
      "image/png": "[encoded data removed]",
      "text/plain": [
       "<matplotlib.figure.Figure at 0x108dc2890>"
      ]
     },
     "metadata": {},
     "output_type": "display_data"
    }
   ],
   "source": [
    "fig = plt.figure(figsize=(12,4))\n",
    "fig.add_subplot(121)\n",
    "plt.plot(results[0:200,1])\n",
    "plt.ylim([0,100])\n",
    "plt.xlabel(\"Epochs\")\n",
    "plt.ylabel(\"Loss\")\n",
    "\n",
    "fig.add_subplot(122)\n",
    "ablineValues = np.zeros_like(x_data)\n",
    "for i,x_val in enumerate(x_data):\n",
    "  ablineValues[i] = res[1]*x_val+res[2]\n",
    "plt.scatter(x_data,y_data)\n",
    "plt.plot(x_data, ablineValues)\n",
    "plt.xlabel('x')\n",
    "plt.ylabel('y')\n",
    "plt.show()"
   ]
  },
  {
   "cell_type": "markdown",
   "metadata": {},
   "source": [
    "What is the correct value for the fit?"
   ]
  },
  {
   "cell_type": "code",
   "execution_count": 7,
   "metadata": {
    "collapsed": false
   },
   "outputs": [
    {
     "data": {
      "text/plain": [
       "(array([ 2.3581152 ,  0.93678743], dtype=float32),\n",
       " [19.037403, 2.4355152, 0.41587028])"
      ]
     },
     "execution_count": 7,
     "metadata": {},
     "output_type": "execute_result"
    }
   ],
   "source": [
    "np.polyfit(x_data,y_data,1), res"
   ]
  },
  {
   "cell_type": "markdown",
   "metadata": {},
   "source": [
    "Out procedure has not excatly found the optimum, but that's usually not a problem for neural networks, since we do not need to find the global minimum for a good model. Note that TensorFlow currently does not support advanced optimization methods like 'L-BFGS' yet see http://ktsiegel.com/6869.pdf"
   ]
  },
  {
   "cell_type": "markdown",
   "metadata": {},
   "source": []
  }
 ],
 "metadata": {
  "kernelspec": {
   "display_name": "Python 2",
   "language": "python",
   "name": "python2"
  },
  "language_info": {
   "codemirror_mode": {
    "name": "ipython",
    "version": 2
   },
   "file_extension": ".py",
   "mimetype": "text/x-python",
   "name": "python",
   "nbconvert_exporter": "python",
   "pygments_lexer": "ipython2",
   "version": "2.7.10"
  }
 },
 "nbformat": 4,
 "nbformat_minor": 0
}
